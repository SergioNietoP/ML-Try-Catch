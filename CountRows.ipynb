{
  "cells": [
    {
      "cell_type": "markdown",
      "metadata": {
        "id": "p2qbeMFefL4Z"
      },
      "source": [
        "# **DataSheet Description**\n",
        "\n",
        "---\n",
        "\n",
        "\n",
        "En este proyecto emplearemos un dataset que contiene información de los resultados de las carreras de el panorama nacional de carreras de caballos.\n",
        "\n",
        "- **Puesto** (Clase): Posición en la que terminan la carrera **int64**\n",
        "- **NombreCaballo**: Nombre de caballo  **object**\n",
        "- **Peso** : Peso de caballo  **object**\n",
        "- **Edad**: Edad de caballo **int64**\n",
        "- **DistanciaMeta**: Distancia respecto a ganador en llegada a meta **object** (DROPEAR)\n",
        "- **Mantilla**: Dorsal   **int64**\n",
        "- **Dividendo** : Pago por euro apostado por ganador de carrera **object** (DROPEAR)\n",
        "- **Propietario** : Cuadra Propietaria **object**\n",
        "- **Preparador**: Nombre Preparador **object**\n",
        "- **Jinete**: Jinete o Amazona que monta al caballo en esta carrera  **object**\n",
        "- **Problemas**: Problemas que posee en esta carrera el caballo  **object**\n",
        "- **Fecha**: Fecha Carrera   **object**\n",
        "- **Hora**: Hora carrera  **object**\n",
        "- **Terreno**: Estado del terreno en carrera **object**\n",
        "- **Distancia**: Longitud carrera  **float64**\n",
        "- **Tipo**: Tipo de terreno en carrera  **object**\n",
        "- **SentidoHipodromo**:  (0 -> Sentido Normal, 1 -> Inverso) **int64**\n",
        "- **Meteorología**: Previsión estado meteorología del día entero **object** (Tiempo3)\n",
        "- **Lluvia**: Previsión cantidad de lluvia del dia entero  **object**\n",
        "- **Viento**: Previsión velocidad de viento del dia entero  **int64**\n",
        "- **Temperatura**: Previsión de temp. del horario de la carrera  **int64**\n",
        "- **Hipodromo**: Nombre del hipódromo de la carrera   **object**"
      ]
    },
    {
      "cell_type": "code",
      "execution_count": null,
      "metadata": {
        "id": "Lh89cWwdfM-Q"
      },
      "outputs": [],
      "source": [
        "import pandas as pd\n",
        "import numpy as np\n",
        "import numpy as np # linear algebra\n",
        "import pandas as pd # data processing, CSV file I/O (e.g. pd.read_csv)\n",
        "import matplotlib.pyplot as plt\n",
        "import seaborn as sns\n",
        "import sklearn\n",
        "import sklearn.compose\n",
        "from xgboost import XGBClassifier\n",
        "from sklearn.metrics import f1_score\n",
        "\n",
        "url = 'https://raw.githubusercontent.com/SergioNietoP/machine-learning-datasheets/main/Learning%20Datasheets/Turf%20Prediction/Data%20Turf%20Races%20Train%20-%2012.csv'\n",
        "\n",
        "url1 = 'https://raw.githubusercontent.com/SergioNietoP/machine-learning-datasheets/main/Learning%20Datasheets/Turf%20Prediction/Data%20Turf%20Races%20Test%20-%205.csv'\n",
        "test = pd.read_csv(url1, sep=',')\n",
        "\n",
        "test_labels = test.pop('Puesto')\n",
        "\n",
        "\n",
        "train = pd.read_csv(url, sep=',')\n",
        "\n",
        "train = train.drop('DistanciaMeta', axis=1)\n",
        "train = train.drop('Dividendo', axis=1)\n",
        "\n",
        "ogData = train\n",
        "train.head()\n",
        "train.count()\n",
        "\n"
      ]
    },
    {
      "cell_type": "markdown",
      "metadata": {
        "id": "XBAEU6JSkbnA"
      },
      "source": [
        "# Preprocesamiento\n",
        "---"
      ]
    },
    {
      "cell_type": "code",
      "execution_count": null,
      "metadata": {
        "id": "VAIAe2irmQV4"
      },
      "outputs": [],
      "source": [
        "pd.set_option('display.max_columns', None)\n",
        "train.head(10)\n"
      ]
    },
    {
      "cell_type": "markdown",
      "metadata": {
        "id": "zBkuLFwodhPi"
      },
      "source": [
        "## **Tratamiento (Puesto)(Train)**"
      ]
    },
    {
      "cell_type": "code",
      "execution_count": null,
      "metadata": {
        "id": "fiCZavCsFC0e"
      },
      "outputs": [],
      "source": [
        "train = train.drop(train[train.Puesto >= 90].index)\n",
        "train = train.reset_index(drop=True)\n",
        "train.count()\n",
        "# train['Puesto'] = train['Puesto'].replace(95, 10) # Penalización Parado"
      ]
    },
    {
      "cell_type": "markdown",
      "metadata": {
        "id": "kQUBnHP2c_B_"
      },
      "source": [
        "## **Tratamiento (Fecha)**\n"
      ]
    },
    {
      "cell_type": "code",
      "execution_count": null,
      "metadata": {
        "id": "CP0UP3Vsektt"
      },
      "outputs": [],
      "source": [
        "import datetime as dt\n",
        "from datetime import date\n",
        "\n",
        "\n",
        "def switchMonth(month):\n",
        "  if month == 'ENERO':  \n",
        "   return '01'\n",
        "  elif month == 'FEBRERO':\n",
        "    return '02'            \n",
        "  elif month == 'MARZO':\n",
        "   return '03'\n",
        "  elif month == 'ABRIL':\n",
        "    return '04' \n",
        "  elif month == 'MAYO':\n",
        "    return '05'                  \n",
        "  elif month == 'JUNIO':\n",
        "    return '06'\n",
        "  elif month == 'JULIO':\n",
        "    return '07'\n",
        "  elif month == 'AGOSTO':\n",
        "    return '08'\n",
        "  elif month == 'SEPTIEMBRE':\n",
        "    return '09'\n",
        "  elif month == 'OCTUBRE':\n",
        "     return '10'\n",
        "  elif month == 'NOVIEMBRE':\n",
        "    return '11'\n",
        "  elif month == 'DICIEMBRE':\n",
        "    return '12'\n",
        "\n",
        "def convertDate(fechas):\n",
        "  index = 0\n",
        "  for element in fechas:\n",
        "    sum = 0\n",
        "    year = element[-4:]\n",
        "    dateAux = year\n",
        "    day = element[:2]\n",
        "    if(int(day) < 10):\n",
        "      day = \"0\" + day[:1]\n",
        "    month = element[5:]\n",
        "    month = ''.join(month.split())[:-6].upper()\n",
        "    month = switchMonth(month)\n",
        "    dateAux = dateAux + \"-\" + month + \"-\" + day\n",
        "\n",
        "    today = date.today()\n",
        "    yearToday = int(str(today)[:4])\n",
        "    monthToday = int(str(today)[5:7])\n",
        "    dayToday = int(str(today)[8:10])\n",
        "    if(yearToday > int(year)):\n",
        "      sum += (yearToday - int(year))*365\n",
        "    sum += (monthToday - int(month))*30\n",
        "    sum += (dayToday - int(day))\n",
        "    datetimeAux = dt.datetime(int(year), int(month), int(day))\n",
        "    train.at[index, 'FechaAux'] = datetimeAux\n",
        "\n",
        "    train.at[index, 'year'] = int(year)\n",
        "    train.at[index, 'month'] = int(month)\n",
        "    train.at[index, 'day'] = int(day)\n",
        "    calculateSeason(int(month), index)\n",
        "\n",
        "    train.at[index, 'DiasDesdeCarrera'] = sum\n",
        "    index += 1\n",
        "   \n",
        "def calculateSeason(month, index):\n",
        "  # train['Invierno'] = 0\n",
        "  # train['Primavera'] = 0\n",
        "  # train['Verano'] = 0\n",
        "  train['Otoño'] = 0\n",
        "  # if(month >= 12 and month <=2):\n",
        "  #    train.at[index, 'Invierno'] = month\n",
        "  # if(month >= 3 and month <=5):\n",
        "  #    train.at[index, 'Primavera'] = month\n",
        "  # if(month >= 6 and month <=8):\n",
        "  #    train.at[index, 'Verano'] = month\n",
        "  if(month >= 9 and month <=11):\n",
        "     train.at[index, 'Otoño'] = month\n",
        "\n",
        "\n",
        "\n",
        "\n",
        "t_array = train[\"Fecha\"] \n",
        "convertDate(t_array)\n",
        "train['FechaAux'].head(120)"
      ]
    },
    {
      "cell_type": "code",
      "execution_count": null,
      "metadata": {
        "id": "wVxaeGrr8y7t"
      },
      "outputs": [],
      "source": [
        "train.head(5)"
      ]
    },
    {
      "cell_type": "code",
      "execution_count": null,
      "metadata": {
        "id": "22J42KX73vcP"
      },
      "outputs": [],
      "source": [
        "import datetime\n",
        "\n",
        "def daysSincePreviousRace(nombres):\n",
        "  index = 0\n",
        "  for caballo in nombres:\n",
        "    indexNombre = 0\n",
        "    nombresAparece = []\n",
        "    for otroCaballo in nombres:\n",
        "      if(otroCaballo == caballo):\n",
        "        nombresAparece.append(indexNombre)\n",
        "      indexNombre += 1\n",
        "\n",
        "    day_actual = train.at[index, 'day']\n",
        "    month_actual = train.at[index, 'month']\n",
        "    year_actual = train.at[index, 'year']\n",
        "\n",
        "    fechaCaballoActual = dt.datetime(int(year_actual), int(month_actual), int(day_actual))\n",
        "    fechaMasReciente = dt.datetime(2020, 1, 1)\n",
        "    indexAux2 = 0\n",
        "    fechaCambiada = False\n",
        "    for aparicion in nombresAparece:\n",
        "      if(train.at[aparicion, 'FechaAux'] < fechaCaballoActual): \n",
        "        if(indexAux2 == 0):\n",
        "          fechaMasReciente = train.at[aparicion, 'FechaAux']\n",
        "          fechaCambiada = True\n",
        "          indexAux2 += 1\n",
        "        elif(train.at[aparicion, 'FechaAux'] > fechaMasReciente):\n",
        "          fechaMasReciente =  train.at[aparicion, 'FechaAux']\n",
        "    if(fechaCambiada):\n",
        "      diferenciaDias = (fechaCaballoActual - fechaMasReciente).days\n",
        "    else:\n",
        "      diferenciaDias = 45 # Penalización si no aparece en carrera anterior\n",
        "    train.at[index, 'DaysSincePreviousRace'] = diferenciaDias\n",
        "    index += 1\n",
        "\n",
        "\n",
        "eventos = train['NombreCaballo']\n",
        "daysSincePreviousRace(eventos)\n",
        "train['DaysSincePreviousRace'].head(35)\n",
        "# Recorro los nombres de caballos y guardo en un array los index de las columnas ligadas a un nombre de Caballo y despues recorrer las fechas y cuando coincida el array comprobar si ese dato\n",
        "# es mas antiguo que la fecha de la fila actual y en el caso de serlo compruebo si es la más antigua de entre las anteriores participaciones"
      ]
    },
    {
      "cell_type": "markdown",
      "metadata": {
        "id": "pRrKU5JlLmug"
      },
      "source": [
        "## **Tratamiento (NombreCaballo)(Train)**"
      ]
    },
    {
      "cell_type": "code",
      "execution_count": null,
      "metadata": {
        "id": "-X9s-JwZLuv4"
      },
      "outputs": [],
      "source": [
        "def eraseBlank(list):\n",
        "  aux = []\n",
        "  for element in list:\n",
        "    element = element.strip()\n",
        "    aux.append(element)\n",
        "  return aux\n",
        "\n",
        "test['NombreCaballo'] = test['NombreCaballo'].str.partition('(')[0]\n",
        "listaNombreCaballo = test['NombreCaballo'].unique().tolist()\n",
        "\n",
        "listTestHorse= eraseBlank(listaNombreCaballo)\n",
        "\n",
        "print(listTestHorse)"
      ]
    },
    {
      "cell_type": "code",
      "execution_count": null,
      "metadata": {
        "id": "U-nJbwAdR7Ci"
      },
      "outputs": [],
      "source": [
        "listTestHorse.sort()\n",
        "print(listTestHorse)"
      ]
    },
    {
      "cell_type": "code",
      "execution_count": null,
      "metadata": {
        "id": "ZSeprKNlOoSA"
      },
      "outputs": [],
      "source": [
        "test['Jinete'] = test['Jinete'].str.partition('(')[0]\n",
        "lista = test['Jinete'].unique().tolist()\n",
        "\n",
        "listTestJockey = eraseBlank(lista)\n",
        "\n",
        "test['Preparador'] = test['Preparador'].str.partition('(')[0]\n",
        "lista = test['Preparador'].unique().tolist()\n",
        "\n",
        "listTestTrainer = eraseBlank(lista)\n",
        "\n",
        "test['Propietario'] = test['Propietario'].str.partition('(')[0]\n",
        "lista = test['Propietario'].unique().tolist()\n",
        "\n",
        "listTestOwner = eraseBlank(lista)\n",
        "\n"
      ]
    },
    {
      "cell_type": "code",
      "execution_count": null,
      "metadata": {
        "id": "LOxbWh3uid7V"
      },
      "outputs": [],
      "source": [
        "train.info()"
      ]
    },
    {
      "cell_type": "code",
      "execution_count": null,
      "metadata": {
        "id": "6atesVdLq4jl"
      },
      "outputs": [],
      "source": [
        "def changeNotFoundInListHorse(listTrain, listTest):\n",
        "  index = 0\n",
        "  listaApariciones = []\n",
        "  for element in listTrain:\n",
        "    if(element not in listTest):\n",
        "      print(\"Encontrado:\", element)\n",
        "      train.at[index, 'NombreCaballo'] = 'OtherHorse'\n",
        "    else:\n",
        "      print(\"NOO Encontrado:\", element)\n",
        "      listaApariciones.append(element)\n",
        "    index += 1\n",
        "  return listaApariciones\n",
        "\n",
        "\n",
        "train['NombreCaballo'] = train['NombreCaballo'].str.partition('(')[0]\n",
        "listTrainHorse = train['NombreCaballo'].tolist()\n",
        "listTrainHorse= eraseBlank(listTrainHorse)"
      ]
    },
    {
      "cell_type": "markdown",
      "metadata": {
        "id": "gAhENIVQgUq6"
      },
      "source": [
        "## Calculo Contricantes\n",
        "---"
      ]
    },
    {
      "cell_type": "code",
      "execution_count": 12,
      "metadata": {
        "id": "m10TP9xcdekh",
        "colab": {
          "base_uri": "https://localhost:8080/",
          "height": 380
        },
        "outputId": "bb6929c1-4a62-49eb-f6c4-dad844b46781"
      },
      "outputs": [
        {
          "output_type": "error",
          "ename": "KeyboardInterrupt",
          "evalue": "ignored",
          "traceback": [
            "\u001b[0;31m---------------------------------------------------------------------------\u001b[0m",
            "\u001b[0;31mKeyboardInterrupt\u001b[0m                         Traceback (most recent call last)",
            "\u001b[0;32m<ipython-input-12-74cc0ef10ec7>\u001b[0m in \u001b[0;36m<module>\u001b[0;34m\u001b[0m\n\u001b[1;32m     18\u001b[0m \u001b[0mlongitud\u001b[0m \u001b[0;34m=\u001b[0m \u001b[0mlen\u001b[0m\u001b[0;34m(\u001b[0m\u001b[0mtrain\u001b[0m\u001b[0;34m.\u001b[0m\u001b[0mindex\u001b[0m\u001b[0;34m)\u001b[0m\u001b[0;34m\u001b[0m\u001b[0;34m\u001b[0m\u001b[0m\n\u001b[1;32m     19\u001b[0m \u001b[0;34m\u001b[0m\u001b[0m\n\u001b[0;32m---> 20\u001b[0;31m \u001b[0mcalculoContrincantes\u001b[0m\u001b[0;34m(\u001b[0m\u001b[0mlistaFechas\u001b[0m\u001b[0;34m,\u001b[0m \u001b[0mlistaHorarios\u001b[0m\u001b[0;34m,\u001b[0m \u001b[0mlongitud\u001b[0m\u001b[0;34m)\u001b[0m\u001b[0;34m\u001b[0m\u001b[0;34m\u001b[0m\u001b[0m\n\u001b[0m\u001b[1;32m     21\u001b[0m \u001b[0;34m\u001b[0m\u001b[0m\n\u001b[1;32m     22\u001b[0m \u001b[0;34m\u001b[0m\u001b[0m\n",
            "\u001b[0;32m<ipython-input-12-74cc0ef10ec7>\u001b[0m in \u001b[0;36mcalculoContrincantes\u001b[0;34m(listaF, listaH, longitud)\u001b[0m\n\u001b[1;32m      6\u001b[0m       \u001b[0msum\u001b[0m \u001b[0;34m=\u001b[0m \u001b[0;36m0\u001b[0m\u001b[0;34m\u001b[0m\u001b[0;34m\u001b[0m\u001b[0m\n\u001b[1;32m      7\u001b[0m       \u001b[0;32mwhile\u001b[0m\u001b[0;34m(\u001b[0m\u001b[0mindex\u001b[0m \u001b[0;34m<\u001b[0m \u001b[0mlongitud\u001b[0m\u001b[0;34m)\u001b[0m\u001b[0;34m:\u001b[0m\u001b[0;34m\u001b[0m\u001b[0;34m\u001b[0m\u001b[0m\n\u001b[0;32m----> 8\u001b[0;31m         \u001b[0;32mif\u001b[0m\u001b[0;34m(\u001b[0m\u001b[0;34m(\u001b[0m\u001b[0mtrain\u001b[0m\u001b[0;34m.\u001b[0m\u001b[0mat\u001b[0m\u001b[0;34m[\u001b[0m\u001b[0mindex\u001b[0m\u001b[0;34m,\u001b[0m \u001b[0;34m'Fecha'\u001b[0m\u001b[0;34m]\u001b[0m \u001b[0;34m==\u001b[0m \u001b[0mfecha\u001b[0m \u001b[0;34m)\u001b[0m \u001b[0;32mand\u001b[0m \u001b[0;34m(\u001b[0m\u001b[0mtrain\u001b[0m\u001b[0;34m.\u001b[0m\u001b[0mat\u001b[0m\u001b[0;34m[\u001b[0m\u001b[0mindex\u001b[0m\u001b[0;34m,\u001b[0m \u001b[0;34m'Hora'\u001b[0m\u001b[0;34m]\u001b[0m \u001b[0;34m==\u001b[0m \u001b[0mhorario\u001b[0m \u001b[0;34m)\u001b[0m\u001b[0;34m)\u001b[0m\u001b[0;34m:\u001b[0m\u001b[0;34m\u001b[0m\u001b[0;34m\u001b[0m\u001b[0m\n\u001b[0m\u001b[1;32m      9\u001b[0m           \u001b[0mlistaIndex\u001b[0m\u001b[0;34m.\u001b[0m\u001b[0mappend\u001b[0m\u001b[0;34m(\u001b[0m\u001b[0mindex\u001b[0m\u001b[0;34m)\u001b[0m\u001b[0;34m\u001b[0m\u001b[0;34m\u001b[0m\u001b[0m\n\u001b[1;32m     10\u001b[0m           \u001b[0msum\u001b[0m \u001b[0;34m+=\u001b[0m \u001b[0;36m1\u001b[0m\u001b[0;34m\u001b[0m\u001b[0;34m\u001b[0m\u001b[0m\n",
            "\u001b[0;32m/usr/local/lib/python3.8/dist-packages/pandas/core/indexing.py\u001b[0m in \u001b[0;36mat\u001b[0;34m(self)\u001b[0m\n\u001b[1;32m    575\u001b[0m         \u001b[0;36m4\u001b[0m\u001b[0;34m\u001b[0m\u001b[0;34m\u001b[0m\u001b[0m\n\u001b[1;32m    576\u001b[0m         \"\"\"\n\u001b[0;32m--> 577\u001b[0;31m         \u001b[0;32mreturn\u001b[0m \u001b[0m_AtIndexer\u001b[0m\u001b[0;34m(\u001b[0m\u001b[0;34m\"at\"\u001b[0m\u001b[0;34m,\u001b[0m \u001b[0mself\u001b[0m\u001b[0;34m)\u001b[0m\u001b[0;34m\u001b[0m\u001b[0;34m\u001b[0m\u001b[0m\n\u001b[0m\u001b[1;32m    578\u001b[0m \u001b[0;34m\u001b[0m\u001b[0m\n\u001b[1;32m    579\u001b[0m     \u001b[0;34m@\u001b[0m\u001b[0mproperty\u001b[0m\u001b[0;34m\u001b[0m\u001b[0;34m\u001b[0m\u001b[0m\n",
            "\u001b[0;31mKeyboardInterrupt\u001b[0m: "
          ]
        }
      ],
      "source": [
        "def calculoContrincantes(listaF, listaH, longitud):\n",
        "  for fecha in listaF:\n",
        "    for horario in listaH:\n",
        "      index = 0\n",
        "      listaIndex = []\n",
        "      sum = 0\n",
        "      while(index < longitud):\n",
        "        if((train.at[index, 'Fecha'] == fecha ) and (train.at[index, 'Hora'] == horario )):\n",
        "          listaIndex.append(index)\n",
        "          sum += 1\n",
        "        index += 1\n",
        "      for indice in listaIndex:\n",
        "        train.at[indice, 'Contrincantes'] = sum\n",
        "\n",
        "\n",
        "listaFechas = train['Fecha'].unique().tolist()\n",
        "listaHorarios = train['Hora'].unique().tolist()\n",
        "longitud = len(train.index)\n",
        "\n",
        "calculoContrincantes(listaFechas, listaHorarios, longitud)\n",
        "\n",
        "\n"
      ]
    },
    {
      "cell_type": "markdown",
      "metadata": {
        "id": "FNHPqSxQ1-Gs"
      },
      "source": [
        "## Calculo Raiz Puesto \n",
        "---"
      ]
    },
    {
      "cell_type": "code",
      "execution_count": null,
      "metadata": {
        "id": "CVa8uN062CSG"
      },
      "outputs": [],
      "source": [
        "def calculoRaizPuesto(index):\n",
        "  i = 0\n",
        "  while(i < index):\n",
        "    train.at[i, 'Puesto'] = float(((train.at[i, 'Puesto'] / (train.at[i, 'Contrincantes'])**(1. / 3.))))\n",
        "    i += 1\n",
        "  \n",
        "train['Puesto'] = train['Puesto'].astype(float)\n",
        "calculoRaizPuesto(len(train.index))\n"
      ]
    },
    {
      "cell_type": "code",
      "execution_count": null,
      "metadata": {
        "id": "-bX78jEsjWaq"
      },
      "outputs": [],
      "source": [
        "pd.set_option('display.max_rows', None)\n",
        "train[['NombreCaballo','Puesto','Contrincantes']].head(501)"
      ]
    },
    {
      "cell_type": "markdown",
      "metadata": {
        "id": "3tLWw1W6pSYA"
      },
      "source": [
        "## **Busqueda Caballos Ganadores en ciertas condiciones**\n",
        "---"
      ]
    },
    {
      "cell_type": "markdown",
      "metadata": {
        "id": "991FqEu_AbCh"
      },
      "source": [
        "### Busqueda UltimasActuacionesAlter\n",
        "---"
      ]
    },
    {
      "cell_type": "code",
      "execution_count": null,
      "metadata": {
        "id": "kp6J5rMnAbCh"
      },
      "outputs": [],
      "source": [
        "def ultimasActuacionesIter(indices):                      \n",
        "  for i in range(indices):\n",
        "    print(i)\n",
        "    puesto = train.at[i, 'Puesto'] #Para Train\n",
        "    print(\"·Puesto -><\", puesto)\n",
        "    nombre = train.at[i, 'NombreCaballo']\n",
        "    fecha = train.at[i, 'FechaAux']\n",
        "    media = 0.0 # Media carreras\n",
        "    sum = 0.0 # Numero Carreras\n",
        "\n",
        "    for j in range(indices):\n",
        "      fechaAux = train.at[j, 'FechaAux']\n",
        "      nombreAux= train.at[j, 'NombreCaballo']\n",
        "      if((nombreAux == nombre and (fechaAux < fecha))):\n",
        "        print(\"Valor Puesto-->\", train.at[j, 'Puesto'])\n",
        "        media += (train.at[j, 'Puesto'] )\n",
        "        sum += 1\n",
        "    print(\"Suma Medias -->\", media, \"/\", sum, \"<-- Nº Act Anteriores\")\n",
        "    if(sum != 0):\n",
        "      media /= sum\n",
        "    if(sum == 0):\n",
        "      media = puesto\n",
        "      train.at[i, 'UltimasActuacionesAlter'] = media\n",
        "    else:\n",
        "      train.at[i, 'UltimasActuacionesAlter'] = media\n",
        "    print(i, \"-->\", nombre, \" MediaUltAct->\", media) \n",
        "\n",
        "        \n",
        "\n",
        "indices = len(train.index)\n",
        "ultimasActuacionesIter(indices)"
      ]
    },
    {
      "cell_type": "code",
      "execution_count": null,
      "metadata": {
        "id": "mHxqFbUfAbCh"
      },
      "outputs": [],
      "source": [
        "train['UltimasActuacionesAlter'][:20].value_counts().sort_values(ascending=False) #90 primeras apariencias >= 3"
      ]
    },
    {
      "cell_type": "markdown",
      "metadata": {
        "id": "QjeeiBjzpr_k"
      },
      "source": [
        "### Busqueda Distancia\n",
        "---"
      ]
    },
    {
      "cell_type": "code",
      "execution_count": null,
      "metadata": {
        "id": "gKE7dYDjp2JO"
      },
      "outputs": [],
      "source": [
        "def comprobacionTipoDistancia(indice):\n",
        "  tipo = 0   # 0, 1, 2 / Corta, Media, Larga\n",
        "  val = train.at[indice, 'Distancia']\n",
        "  if(val >= 3200):\n",
        "    tipo = 2\n",
        "  if((val >= 1600) & (val <= 2400)):\n",
        "    tipo = 1\n",
        "  return tipo;\n",
        "\n",
        "def destrezaDistancia(indices):                      \n",
        "  for i in range(indices):\n",
        "    print(i)\n",
        "    tipo = comprobacionTipoDistancia(i)\n",
        "    nombre = train.at[i, 'NombreCaballo']\n",
        "    fecha = train.at[i, 'FechaAux']\n",
        "    media = 0 # Media carreras\n",
        "    sum = 0 # Numero Carreras\n",
        "    mediaAux = 0 \n",
        "    sumAux = 0\n",
        "    for j in range(indices):\n",
        "      fechaAux = train.at[j, 'FechaAux']\n",
        "      tipoAux = comprobacionTipoDistancia(j)\n",
        "      nombreAux= train.at[j, 'NombreCaballo']\n",
        "      if(nombreAux == nombre):\n",
        "        if((fechaAux < fecha) & (tipoAux == tipo)):\n",
        "          media += (train.at[j, 'Puesto'] )\n",
        "          sum += 1\n",
        "        elif((fechaAux < fecha) & (tipoAux != tipo)):\n",
        "          mediaAux += (train.at[j, 'Puesto'] )\n",
        "          sumAux += 1\n",
        "    if(sum != 0):\n",
        "      media /= sum\n",
        "    if(sumAux != 0):\n",
        "      mediaAux /= sumAux\n",
        "    print(i, \"-->\", nombre, \" - Media->\", media, \"/MediaAux-->\", mediaAux, \"/Numero Destreza(\", sum, sumAux, \"):Numero Otros/\") # Si hay mas de 2 participaciones (en esas condiciones y resto ) y con una media al menos un 33% mas baja , es valido\n",
        "    if((sum >= 2) & (sumAux >= 2) & (((1.1* media) < mediaAux))): # Si hay mas de 2 participaciones (en esas condiciones y resto ) y con una media al menos un 33% mas baja , es valido\n",
        "      train.at[i, 'DestrezaDistancia'] = 1\n",
        "    else:\n",
        "      train.at[i, 'DestrezaDistancia'] = 0\n",
        "        \n",
        "\n",
        "indices = len(train.index)\n",
        "trainOg = train\n",
        "destrezaDistancia(indices)\n",
        "\n",
        "\n",
        "#Len Intervalos\n",
        "print(len(train[(train['Distancia'] < 1600).tolist()]))\n",
        "print(len(train[((train['Distancia'] >= 1600) & (train['Distancia'] <= 2400) ).tolist()]))\n",
        "print(len(train[(train['Distancia'] >= 3200).tolist()]))"
      ]
    },
    {
      "cell_type": "code",
      "execution_count": null,
      "metadata": {
        "id": "UsRJ5siZmDOR"
      },
      "outputs": [],
      "source": [
        "train['DestrezaDistancia'].value_counts()[:35].sort_values(ascending=False) #90 primeras apariencias >= 3"
      ]
    },
    {
      "cell_type": "code",
      "execution_count": null,
      "metadata": {
        "id": "s_5eCJA6mSkm"
      },
      "outputs": [],
      "source": [
        "pd.set_option('display.max_rows', None)\n",
        "train[['NombreCaballo','DestrezaDistancia']].head(501)"
      ]
    },
    {
      "cell_type": "markdown",
      "metadata": {
        "id": "HQVT4l8wPiMf"
      },
      "source": [
        "### Busqueda Meteorología\n",
        "---"
      ]
    },
    {
      "cell_type": "code",
      "execution_count": null,
      "metadata": {
        "id": "0CnkijZWS627"
      },
      "outputs": [],
      "source": [
        "train['Meteorología'].value_counts()[:35].sort_values(ascending=False) #90 primeras apariencias >= 3"
      ]
    },
    {
      "cell_type": "code",
      "execution_count": null,
      "metadata": {
        "id": "-qUEKN5FQRjf"
      },
      "outputs": [],
      "source": [
        "def comprobacionTipoMeteorologia(indice, listaMeteo):\n",
        "  tipo = -1 # 0 -> Lluvia / 1 -> Nublado / 2 -> Soleado, Despejado  \n",
        "  val = train.at[indice, 'Meteorología']\n",
        "  for meteo in listaMeteo:\n",
        "   if(\"Lluvia\" in val or \"precipitaciones\" in val):\n",
        "      tipo = 1\n",
        "   elif(\"Soleado\" in val or \"Despejado\" in val):\n",
        "      tipo = 2\n",
        "   else:\n",
        "     tipo = 0\n",
        "  return tipo;\n",
        "\n",
        "def destrezaMeteorologia(indices, listaMeteo):                      \n",
        "  for i in range(indices):\n",
        "    print(i)\n",
        "    tipo = comprobacionTipoMeteorologia(i, listaMeteo)\n",
        "    nombre = train.at[i, 'NombreCaballo']\n",
        "    fecha = train.at[i, 'FechaAux']\n",
        "    media = 0 # Media carreras\n",
        "    sum = 0 # Numero Carreras\n",
        "    mediaAux = 0 \n",
        "    sumAux = 0\n",
        "    for j in range(indices):\n",
        "      fechaAux = train.at[j, 'FechaAux']\n",
        "      tipoAux = comprobacionTipoMeteorologia(j, listaMeteo)\n",
        "      nombreAux= train.at[j, 'NombreCaballo']\n",
        "      if(nombreAux == nombre):\n",
        "        if((fechaAux < fecha) & (tipoAux == tipo)):\n",
        "          media += (train.at[j, 'Puesto'] )\n",
        "          sum += 1\n",
        "        elif((fechaAux < fecha) & (tipoAux != tipo)):\n",
        "          mediaAux += (train.at[j, 'Puesto'] )\n",
        "          sumAux += 1\n",
        "    if(sum != 0):\n",
        "      media /= sum\n",
        "    if(sumAux != 0):\n",
        "      mediaAux /= sumAux\n",
        "    print(i, \"-->\", nombre, \" - Media->\", media, \"/MediaAux-->\", mediaAux, \"/Numero Destreza(\", sum, sumAux, \"):Numero Otros/\") \n",
        "    if((sum >= 2) & (sumAux >= 2) & (((1.1* media) < mediaAux))): # Si hay mas de 2 participaciones (en esas condiciones y resto ) y con una media al menos un 33% mas baja , es valido\n",
        "      train.at[i, 'DestrezaMeteo'] = 1\n",
        "    else:\n",
        "      train.at[i, 'DestrezaMeteo'] = 0\n",
        "        \n",
        "\n",
        "indices = len(train.index)\n",
        "listaMeteo = train['Meteorología'].unique().tolist()\n",
        "destrezaMeteorologia(indices, listaMeteo)"
      ]
    },
    {
      "cell_type": "code",
      "execution_count": null,
      "metadata": {
        "id": "tuWyDG0hVro0"
      },
      "outputs": [],
      "source": [
        "train['DestrezaMeteo'].value_counts()[:35].sort_values(ascending=False) #90 primeras apariencias >= 3"
      ]
    },
    {
      "cell_type": "markdown",
      "metadata": {
        "id": "lMoHtG0plzfp"
      },
      "source": [
        "### Busqueda Lluvia\n",
        "---"
      ]
    },
    {
      "cell_type": "code",
      "execution_count": null,
      "metadata": {
        "id": "_Rx_DjSzlzfp"
      },
      "outputs": [],
      "source": [
        "train['LLuvia'].value_counts().sort_values(ascending=False) #90 primeras apariencias >= 3"
      ]
    },
    {
      "cell_type": "code",
      "execution_count": null,
      "metadata": {
        "id": "ql25AGFrlzfp"
      },
      "outputs": [],
      "source": [
        "def comprobacionTipoLLuvia(indice, listaLLuvia):\n",
        "  tipo = -1 # 0 -> 0.0 / 1 -> > 0.0 / 2 -> > 1 \n",
        "  val = train.at[indice, 'LLuvia']\n",
        "  for meteo in listaMeteo:\n",
        "   if(val > 0):\n",
        "      tipo = 1\n",
        "   elif(val > 1):\n",
        "      tipo = 2\n",
        "   else:\n",
        "     tipo = 0\n",
        "  return tipo;\n",
        "\n",
        "def destrezaMeteorologia(indices, listaLLuvia):                      \n",
        "  for i in range(indices):\n",
        "    print(i)\n",
        "    tipo = comprobacionTipoLLuvia(i, listaLLuvia)\n",
        "    nombre = train.at[i, 'NombreCaballo']\n",
        "    fecha = train.at[i, 'FechaAux']\n",
        "    media = 0 # Media carreras\n",
        "    sum = 0 # Numero Carreras\n",
        "    mediaAux = 0 \n",
        "    sumAux = 0\n",
        "    for j in range(indices):\n",
        "      fechaAux = train.at[j, 'FechaAux']\n",
        "      tipoAux = comprobacionTipoLLuvia(j, listaLLuvia)\n",
        "      nombreAux= train.at[j, 'NombreCaballo']\n",
        "      if(nombreAux == nombre):\n",
        "        if((fechaAux < fecha) & (tipoAux == tipo)):\n",
        "          media += (train.at[j, 'Puesto'] )\n",
        "          sum += 1\n",
        "        elif((fechaAux < fecha) & (tipoAux != tipo)):\n",
        "          mediaAux += (train.at[j, 'Puesto'] )\n",
        "          sumAux += 1\n",
        "    if(sum != 0):\n",
        "      media /= sum\n",
        "    if(sumAux != 0):\n",
        "      mediaAux /= sumAux\n",
        "    print(i, \"-->\", nombre, \" - Media->\", media, \"/MediaAux-->\", mediaAux, \"/Numero Destreza(\", sum, sumAux, \"):Numero Otros/\") \n",
        "    if((sum >= 2) & (sumAux >= 2) & (((1.1* media) < mediaAux))): # Si hay mas de 2 participaciones (en esas condiciones y resto ) y con una media al menos un 33% mas baja , es valido\n",
        "      train.at[i, 'DestrezaLLuvia'] = 1\n",
        "    else:\n",
        "      train.at[i, 'DestrezaLLuvia'] = 0\n",
        "        \n",
        "\n",
        "indices = len(train.index)\n",
        "listaLLuvia = train['LLuvia'].unique().tolist()\n",
        "destrezaMeteorologia(indices, listaLLuvia)"
      ]
    },
    {
      "cell_type": "code",
      "execution_count": null,
      "metadata": {
        "id": "SKA_L8Anlzfq"
      },
      "outputs": [],
      "source": [
        "train['DestrezaLLuvia'].value_counts()[:35].sort_values(ascending=False) #90 primeras apariencias >= 3"
      ]
    },
    {
      "cell_type": "markdown",
      "metadata": {
        "id": "qpZrbmDunXnE"
      },
      "source": [
        "### Busqueda Temperatura\n",
        "---"
      ]
    },
    {
      "cell_type": "code",
      "execution_count": null,
      "metadata": {
        "id": "RCnwsjoNnXnE"
      },
      "outputs": [],
      "source": [
        "train['Temperatura'].value_counts().sort_values(ascending=False) #90 primeras apariencias >= 3"
      ]
    },
    {
      "cell_type": "code",
      "execution_count": null,
      "metadata": {
        "id": "7CK5DRM-nXnE"
      },
      "outputs": [],
      "source": [
        "def comprobacionTipoTemperatura(indice, listaTemperatura):\n",
        "  tipo = -1 # 0 -> < 20 / 1 -> > 30 > x < 20 / 2 -> > > 30\n",
        "  val = train.at[indice, 'Temperatura']\n",
        "  for meteo in listaMeteo:\n",
        "   if(val > 30):\n",
        "      tipo = 2\n",
        "   elif(val < 20):\n",
        "      tipo = 0\n",
        "   else:\n",
        "     tipo = 0\n",
        "  return tipo;\n",
        "\n",
        "def destrezaTemperatura(indices, listaTemperatura):                      \n",
        "  for i in range(indices):\n",
        "    print(i)\n",
        "    tipo = comprobacionTipoTemperatura(i, listaTemperatura)\n",
        "    nombre = train.at[i, 'NombreCaballo']\n",
        "    fecha = train.at[i, 'FechaAux']\n",
        "    media = 0 # Media carreras\n",
        "    sum = 0 # Numero Carreras\n",
        "    mediaAux = 0 \n",
        "    sumAux = 0\n",
        "    for j in range(indices):\n",
        "      fechaAux = train.at[j, 'FechaAux']\n",
        "      tipoAux = comprobacionTipoTemperatura(j, listaTemperatura)\n",
        "      nombreAux= train.at[j, 'NombreCaballo']\n",
        "      if(nombreAux == nombre):\n",
        "        if((fechaAux < fecha) & (tipoAux == tipo)):\n",
        "          media += (train.at[j, 'Puesto'] )\n",
        "          sum += 1\n",
        "        elif((fechaAux < fecha) & (tipoAux != tipo)):\n",
        "          mediaAux += (train.at[j, 'Puesto'] )\n",
        "          sumAux += 1\n",
        "    if(sum != 0):\n",
        "      media /= sum\n",
        "    if(sumAux != 0):\n",
        "      mediaAux /= sumAux\n",
        "    print(i, \"-->\", nombre, \" - Media->\", media, \"/MediaAux-->\", mediaAux, \"/Numero Destreza(\", sum, sumAux, \"):Numero Otros/\") \n",
        "    if((sum >= 2) & (sumAux >= 2) & (((1.1* media) < mediaAux))): # Si hay mas de 2 participaciones (en esas condiciones y resto ) y con una media al menos un 33% mas baja , es valido\n",
        "      train.at[i, 'DestrezaTemperatura'] = 1\n",
        "    else:\n",
        "      train.at[i, 'DestrezaTemperatura'] = 0\n",
        "        \n",
        "\n",
        "indices = len(train.index)\n",
        "listaTemperatura = train['Temperatura'].unique().tolist()\n",
        "destrezaTemperatura(indices, listaTemperatura)"
      ]
    },
    {
      "cell_type": "code",
      "execution_count": null,
      "metadata": {
        "id": "AgLpGMmwnXnF"
      },
      "outputs": [],
      "source": [
        "train['DestrezaTemperatura'].value_counts().sort_values(ascending=False) #90 primeras apariencias >= 3"
      ]
    },
    {
      "cell_type": "markdown",
      "metadata": {
        "id": "Rl8x6qOLvur-"
      },
      "source": [
        "### Busqueda Viento\n",
        "---"
      ]
    },
    {
      "cell_type": "code",
      "execution_count": null,
      "metadata": {
        "id": "byaTETWqvur-"
      },
      "outputs": [],
      "source": [
        "train['Viento'].value_counts().sort_values(ascending=False) #90 primeras apariencias >= 3"
      ]
    },
    {
      "cell_type": "code",
      "execution_count": null,
      "metadata": {
        "id": "gXqjmwolvur-"
      },
      "outputs": [],
      "source": [
        "def comprobacionTipoViento(indice, listaViento):\n",
        "  tipo = -1 # 0 -> < 5 / 1 -> > 30 > x > 5 / 2 -> > > 30\n",
        "  val = train.at[indice, 'Viento']\n",
        "  for meteo in listaMeteo:\n",
        "   if(val > 30):\n",
        "      tipo = 2\n",
        "   elif(val < 5):\n",
        "      tipo = 0\n",
        "   else:\n",
        "     tipo = 0\n",
        "  return tipo;\n",
        "\n",
        "def destrezaViento(indices, listaViento):                      \n",
        "  for i in range(indices):\n",
        "    print(i)\n",
        "    tipo = comprobacionTipoViento(i, listaViento)\n",
        "    nombre = train.at[i, 'NombreCaballo']\n",
        "    fecha = train.at[i, 'FechaAux']\n",
        "    media = 0 # Media carreras\n",
        "    sum = 0 # Numero Carreras\n",
        "    mediaAux = 0 \n",
        "    sumAux = 0\n",
        "    for j in range(indices):\n",
        "      fechaAux = train.at[j, 'FechaAux']\n",
        "      tipoAux = comprobacionTipoViento(j, listaViento)\n",
        "      nombreAux= train.at[j, 'NombreCaballo']\n",
        "      if(nombreAux == nombre):\n",
        "        if((fechaAux < fecha) & (tipoAux == tipo)):\n",
        "          media += (train.at[j, 'Puesto'] )\n",
        "          sum += 1\n",
        "        elif((fechaAux < fecha) & (tipoAux != tipo)):\n",
        "          mediaAux += (train.at[j, 'Puesto'] )\n",
        "          sumAux += 1\n",
        "    if(sum != 0):\n",
        "      media /= sum\n",
        "    if(sumAux != 0):\n",
        "      mediaAux /= sumAux\n",
        "    print(i, \"-->\", nombre, \" - Media->\", media, \"/MediaAux-->\", mediaAux, \"/Numero Destreza(\", sum, sumAux, \"):Numero Otros/\") \n",
        "    if((sum >= 2) & (sumAux >= 2) & (((1.1* media) < mediaAux))): # Si hay mas de 2 participaciones (en esas condiciones y resto ) y con una media al menos un 33% mas baja , es valido\n",
        "      train.at[i, 'DestrezaViento'] = 1\n",
        "    else:\n",
        "      train.at[i, 'DestrezaViento'] = 0\n",
        "        \n",
        "\n",
        "indices = len(train.index)\n",
        "listaViento = train['Viento'].unique().tolist()\n",
        "destrezaViento(indices, listaViento)"
      ]
    },
    {
      "cell_type": "code",
      "execution_count": null,
      "metadata": {
        "id": "4yu6MBjivur-"
      },
      "outputs": [],
      "source": [
        "train['DestrezaViento'].value_counts().sort_values(ascending=False) #90 primeras apariencias >= 3"
      ]
    },
    {
      "cell_type": "markdown",
      "metadata": {
        "id": "pTP8tb-Awmac"
      },
      "source": [
        "### Busqueda Terreno\n",
        "---"
      ]
    },
    {
      "cell_type": "code",
      "execution_count": null,
      "metadata": {
        "id": "rhIJP3Qtwmac"
      },
      "outputs": [],
      "source": [
        "train['Terreno'].value_counts().sort_values(ascending=False) #90 primeras apariencias >= 3"
      ]
    },
    {
      "cell_type": "code",
      "execution_count": null,
      "metadata": {
        "id": "Yd8S2OpIwmad"
      },
      "outputs": [],
      "source": [
        "def comprobacionTipoTerreno(indice, listaTerreno):\n",
        "  tipo = -1 # 0 -> Arena / 1 -> H - Blando / 2 -> H - Bueno\n",
        "  val = train.at[indice, 'Terreno']\n",
        "  if(val == \"H-Bueno\"):\n",
        "    val = val.replace('H-Bueno', 'H - Bueno')\n",
        "    train.at[indice, 'Terreno'] = val\n",
        "  for meteo in listaMeteo:\n",
        "   if(val == 'H - Bueno'):\n",
        "      tipo = 2\n",
        "   elif(val == 'H - Blando'):\n",
        "      tipo = 1\n",
        "   elif(val == 'Arena'):\n",
        "      tipo = 0\n",
        "   elif(val == 'Playa'):\n",
        "      tipo = 3\n",
        "   else:\n",
        "      tipo = 4\n",
        "  return tipo;\n",
        "\n",
        "def destrezaTerreno(indices, listaTerreno):                      \n",
        "  for i in range(indices):\n",
        "    print(i)\n",
        "    tipo = comprobacionTipoTerreno(i, listaTerreno)\n",
        "    nombre = train.at[i, 'NombreCaballo']\n",
        "    fecha = train.at[i, 'FechaAux']\n",
        "    media = 0 # Media carreras\n",
        "    sum = 0 # Numero Carreras\n",
        "    mediaAux = 0 \n",
        "    sumAux = 0\n",
        "    for j in range(indices):\n",
        "      fechaAux = train.at[j, 'FechaAux']\n",
        "      tipoAux = comprobacionTipoTerreno(j, listaTerreno)\n",
        "      nombreAux= train.at[j, 'NombreCaballo']\n",
        "      if(nombreAux == nombre):\n",
        "        if((fechaAux < fecha) & (tipoAux == tipo)):\n",
        "          media += (train.at[j, 'Puesto'] )\n",
        "          sum += 1\n",
        "        elif((fechaAux < fecha) & (tipoAux != tipo)):\n",
        "          mediaAux += (train.at[j, 'Puesto'] )\n",
        "          sumAux += 1\n",
        "    if(sum != 0):\n",
        "      media /= sum\n",
        "    if(sumAux != 0):\n",
        "      mediaAux /= sumAux\n",
        "    print(i, \"-->\", nombre, \" - Media->\", media, \"/MediaAux-->\", mediaAux, \"/Numero Destreza(\", sum, sumAux, \"):Numero Otros/\") \n",
        "    if((sum >= 2) & (sumAux >= 2) & (((1.1* media) < mediaAux))): # Si hay mas de 2 participaciones (en esas condiciones y resto ) y con una media al menos un 33% mas baja , es valido\n",
        "      train.at[i, 'DestrezaTerreno'] = 1\n",
        "    else:\n",
        "      train.at[i, 'DestrezaTerreno'] = 0\n",
        "        \n",
        "\n",
        "indices = len(train.index)\n",
        "listaTerreno = train['Terreno'].unique().tolist()\n",
        "destrezaTerreno(indices, listaTerreno)"
      ]
    },
    {
      "cell_type": "code",
      "execution_count": null,
      "metadata": {
        "id": "N00YBqxQyMMe"
      },
      "outputs": [],
      "source": [
        "train['DestrezaTerreno'].value_counts().sort_values(ascending=False) #90 primeras apariencias >= 3"
      ]
    },
    {
      "cell_type": "markdown",
      "metadata": {
        "id": "cszh0PPWqego"
      },
      "source": [
        "## **Tratamiento (Peso)**"
      ]
    },
    {
      "cell_type": "code",
      "execution_count": null,
      "metadata": {
        "id": "U5ZxXKUOqooe"
      },
      "outputs": [],
      "source": [
        "train['Peso'] = train['Peso'].str.partition('-')[0]\n",
        "train['Peso'] = train['Peso'].str[:2]\n",
        "\n"
      ]
    },
    {
      "cell_type": "code",
      "execution_count": null,
      "metadata": {
        "id": "PpO4SGiMqj1C"
      },
      "outputs": [],
      "source": [
        "train['Peso'].value_counts()[:35].sort_values(ascending=False) #90 primeras apariencias >= 3"
      ]
    },
    {
      "cell_type": "markdown",
      "metadata": {
        "id": "YtUAW4RbsgBI"
      },
      "source": [
        "## **Tratamiento (Edad)**"
      ]
    },
    {
      "cell_type": "code",
      "execution_count": null,
      "metadata": {
        "id": "grrr_9F2sij7"
      },
      "outputs": [],
      "source": [
        "train['Edad'].value_counts()[:35].sort_values(ascending=False) #90 primeras apariencias >= 3"
      ]
    },
    {
      "cell_type": "markdown",
      "metadata": {
        "id": "7cG1h6OssuhQ"
      },
      "source": [
        "## **Tratamiento (Mantilla)**"
      ]
    },
    {
      "cell_type": "code",
      "execution_count": null,
      "metadata": {
        "id": "TEVrL5dzswdZ"
      },
      "outputs": [],
      "source": [
        "train['Mantilla'].value_counts()[:35].sort_values(ascending=False) #90 primeras apariencias >= 3"
      ]
    },
    {
      "cell_type": "markdown",
      "metadata": {
        "id": "8h8B8ApIs-bo"
      },
      "source": [
        "## **Tratamiento (Propietario)(Train)**"
      ]
    },
    {
      "cell_type": "code",
      "execution_count": null,
      "metadata": {
        "id": "pedFR5rLtC5y"
      },
      "outputs": [],
      "source": [
        "def changeNotFoundInListOwner(listTrain, listTest):\n",
        "  index = 0\n",
        "  listaApariciones = []\n",
        "  for element in listTrain:\n",
        "    if(element not in listTest):\n",
        "      train.at[index, 'Propietario'] = 'OtherOwner'\n",
        "    else:\n",
        "      listaApariciones.append(element)\n",
        "    index += 1\n",
        "  return listaApariciones\n",
        "    \n",
        "    \n",
        "\n",
        "#Lógica de lista de Test en \"Tratamiento(NombreCaballo)\"\n",
        "\n",
        "listTrainOwner = train['Propietario'].tolist()\n",
        "listTrainOwner= eraseBlank(listTrainOwner)\n"
      ]
    },
    {
      "cell_type": "markdown",
      "metadata": {
        "id": "VBp5FYGQte6u"
      },
      "source": [
        "## **Tratamiento (Preparador)(Train)**"
      ]
    },
    {
      "cell_type": "code",
      "execution_count": null,
      "metadata": {
        "id": "oHjy0gIZtigN"
      },
      "outputs": [],
      "source": [
        "def changeNotFoundInListTrainer(listTrain, listTest):\n",
        "  index = 0\n",
        "  listaApariciones = []\n",
        "  for element in listTrain:\n",
        "    if(element not in listTest):\n",
        "      train.at[index, 'Preparador'] = 'OtherTrainer'\n",
        "    else:\n",
        "      listaApariciones.append(element)\n",
        "    index += 1\n",
        "  return listaApariciones\n",
        "\n",
        "#Lógica de lista de Test en \"Tratamiento(NombreCaballo)\"\n",
        "\n",
        "listTrainTrainer = train['Preparador'].tolist()\n",
        "listTrainTrainer= eraseBlank(listTrainTrainer)\n"
      ]
    },
    {
      "cell_type": "markdown",
      "metadata": {
        "id": "IZ-owC1wtr2D"
      },
      "source": [
        "## **Tratamiento (Jinete)(Train)**"
      ]
    },
    {
      "cell_type": "code",
      "execution_count": null,
      "metadata": {
        "id": "SbcaVGyYtxmc"
      },
      "outputs": [],
      "source": [
        "def changeNotFoundInListJockey(listTrain, listTest):\n",
        "  index = 0\n",
        "  listaApariciones = []\n",
        "  for element in listTrain:\n",
        "    if(element not in listTest):\n",
        "      train.at[index, 'Jinete'] = 'OtherJockey'\n",
        "    else:\n",
        "      listaApariciones.append(element)\n",
        "    index += 1\n",
        "  return listaApariciones\n",
        "\n",
        "#Lógica de lista de Test en \"Tratamiento(NombreCaballo)\"\n",
        "\n",
        "train['Jinete'] = train['Jinete'].str.partition('(')[0]\n",
        "listTrainJockey = train['Jinete'].tolist()\n",
        "listTrainJockey= eraseBlank(listTrainJockey)\n"
      ]
    },
    {
      "cell_type": "markdown",
      "metadata": {
        "id": "-o4Y1o8zpBkw"
      },
      "source": [
        "## **Tratamiento Change Not Found In Test(NombreCaballo)(Propieatario)(Preparador)(Jinete)**"
      ]
    },
    {
      "cell_type": "code",
      "execution_count": null,
      "metadata": {
        "id": "jnzs1eItOTd2"
      },
      "outputs": [],
      "source": [
        "listAparicionesHorse= changeNotFoundInListHorse(listTrainHorse, listTestHorse)\n",
        "\n",
        "train['Propietario'] = train['Propietario'].str.strip()\n",
        "train['NombreCaballo'] = train['NombreCaballo'].str.strip()\n",
        "train['Jinete'] = train['Jinete'].str.strip()\n",
        "train['Preparador'] = train['Preparador'].str.strip()\n",
        "\n",
        "train['NombreCaballo'].head(30)"
      ]
    },
    {
      "cell_type": "code",
      "execution_count": null,
      "metadata": {
        "id": "ygJDBeg4rANZ"
      },
      "outputs": [],
      "source": [
        "listAparicionesOwner = changeNotFoundInListOwner(listTrainOwner, listTestOwner)\n",
        "train['Propietario'].head(15)"
      ]
    },
    {
      "cell_type": "code",
      "execution_count": null,
      "metadata": {
        "id": "iYbdAgbhq_VD"
      },
      "outputs": [],
      "source": [
        "listAparicionesTrainer = changeNotFoundInListTrainer(listTrainTrainer, listTestTrainer)\n",
        "train['Preparador'].head(15)"
      ]
    },
    {
      "cell_type": "code",
      "execution_count": null,
      "metadata": {
        "id": "-OiG4a9VrFqr"
      },
      "outputs": [],
      "source": [
        "listAparicionesJockey = changeNotFoundInListJockey(listTrainJockey, listTestJockey)\n",
        "train['Jinete'].head(15)"
      ]
    },
    {
      "cell_type": "code",
      "execution_count": null,
      "metadata": {
        "id": "UuL1CSksnpek"
      },
      "outputs": [],
      "source": [
        "train['NombreCaballo'].value_counts()[:35].sort_values(ascending=False) #90 primeras apariencias >= 3"
      ]
    },
    {
      "cell_type": "markdown",
      "metadata": {
        "id": "Vm1c9qJnu4-u"
      },
      "source": [
        "## **Tratamiento (Problemas)**\n"
      ]
    },
    {
      "cell_type": "code",
      "execution_count": null,
      "metadata": {
        "id": "VUInjzYlvls2"
      },
      "outputs": [],
      "source": [
        "train['Problemas'].value_counts()[:35].sort_values(ascending=False) #90 primeras apariencias >= 3"
      ]
    },
    {
      "cell_type": "code",
      "execution_count": null,
      "metadata": {
        "id": "gC-9eodqu6bg"
      },
      "outputs": [],
      "source": [
        "train['Problemas'] = train['Problemas'].fillna('0')\n",
        "train['Problema_Nulo'] = np.where(train['Problemas'].str.contains('0'),1,0)\n",
        "train['Problema_1'] = np.where(train['Problemas'].str.contains('1'),1,0)\n",
        "train['Problema_2'] = np.where(train['Problemas'].str.contains('2'),1,0)\n",
        "train['Problema_3'] = np.where(train['Problemas'].str.contains('3'),1,0)\n",
        "train['Problema_4'] = np.where(train['Problemas'].str.contains('4'),1,0)\n",
        "train['Problema_5'] = np.where(train['Problemas'].str.contains('5'),1,0)\n",
        "train['Problema_6'] = np.where(train['Problemas'].str.contains('6'),1,0)\n",
        "train['Problema_7'] = np.where(train['Problemas'].str.contains('7'),1,0)\n",
        "train['Problema_8'] = np.where(train['Problemas'].str.contains('8'),1,0)\n",
        "train.head()\n",
        "\n"
      ]
    },
    {
      "cell_type": "markdown",
      "metadata": {
        "id": "FaTopoV10syt"
      },
      "source": [
        "## **Tratamiento (UltimasActuaciones)**\n"
      ]
    },
    {
      "cell_type": "code",
      "execution_count": null,
      "metadata": {
        "id": "Fn1Y7u_YRDx0"
      },
      "outputs": [],
      "source": [
        "# def count_lastRaces(arrayLast):\n",
        "#   index = 0\n",
        "#   for element in arrayLast:\n",
        "#     element = element.replace(',', '')\n",
        "#     element = element.replace('[', '')\n",
        "#     element = element[:len(element)-1]\n",
        "#     i = 0\n",
        "#     j = 0\n",
        "#     sum = 0\n",
        "#     if 'Debutante' in element:\n",
        "#       sum = 10\n",
        "#       element = []\n",
        "#     else:\n",
        "#       element = element.replace('NP', '08')\n",
        "#       element = element.replace('Desc', '08')\n",
        "#       element = element.replace(' ', '')\n",
        "#       while(i < len(element)):\n",
        "#         if(i == 0 and len(element)>4):\n",
        "#           j = j+2\n",
        "#           sum += int(element[i:j])**1.3\n",
        "#           i = i+2 \n",
        "#         elif (i == 2 and len(element)>4):\n",
        "#           j = j+2\n",
        "#           sum += int(element[i:j])**1.2\n",
        "#           i = i+2 \n",
        "#         else:\n",
        "#           j = j+2\n",
        "#           print(index)\n",
        "#           sum += int(element[i:j])\n",
        "#           i = i+2\n",
        "#       print('******INDEX ', index+2, '*****')\n",
        "#       print('Sum -->', sum, '/Len -->', len(element))\n",
        "#       sum = sum / len(element)\n",
        "#       print('Result -->', sum, '/Element -->' ,element)\n",
        "#     train.at[index, 'MediaUltimasActuaciones'] = sum\n",
        "#     train.at[index, 'CantidadActuaciones'] = (len(element)/2)\n",
        "#     index += 1\n",
        "\n",
        "      \n",
        "\n",
        "\n",
        "\n",
        "# t_array = train[\"UltimasActuaciones\"]\n",
        "# count_lastRaces(t_array)"
      ]
    },
    {
      "cell_type": "code",
      "execution_count": null,
      "metadata": {
        "id": "a6D-jazfZK_R"
      },
      "outputs": [],
      "source": [
        "train[['NombreCaballo','UltimasActuacionesAlter']].head(128)"
      ]
    },
    {
      "cell_type": "markdown",
      "metadata": {
        "id": "pO3y7XmtVGKF"
      },
      "source": [
        "## **Tratamiento (Hora)**\n"
      ]
    },
    {
      "cell_type": "code",
      "execution_count": null,
      "metadata": {
        "id": "tEq7CD02wR-0"
      },
      "outputs": [],
      "source": [
        "train['Hora'] = train['Hora'].str.replace(':', '') "
      ]
    },
    {
      "cell_type": "markdown",
      "metadata": {
        "id": "mSBaoWTwVMGs"
      },
      "source": [
        "## **Tratamiento (Terreno)**\n"
      ]
    },
    {
      "cell_type": "code",
      "execution_count": null,
      "metadata": {
        "id": "atUehBWViH6E"
      },
      "outputs": [],
      "source": [
        "train.info()"
      ]
    },
    {
      "cell_type": "markdown",
      "metadata": {
        "id": "AT3WFAY1VV6m"
      },
      "source": [
        "## **Tratamiento (Distancia)**\n"
      ]
    },
    {
      "cell_type": "markdown",
      "metadata": {
        "id": "wSIoYoCBVZvz"
      },
      "source": [
        "## **Tratamiento (Tipo)**\n"
      ]
    },
    {
      "cell_type": "markdown",
      "metadata": {
        "id": "lmxe8YbuVe9c"
      },
      "source": [
        "## **Tratamiento (SentidoHipodromo)**\n"
      ]
    },
    {
      "cell_type": "markdown",
      "metadata": {
        "id": "IXmLbU8sViiz"
      },
      "source": [
        "## **Tratamiento (Meteorologia)**\n"
      ]
    },
    {
      "cell_type": "markdown",
      "metadata": {
        "id": "P0nFs5yJVk-E"
      },
      "source": [
        "## **Tratamiento (Lluvia)**\n"
      ]
    },
    {
      "cell_type": "markdown",
      "metadata": {
        "id": "K2C6KoQNVnSN"
      },
      "source": [
        "## **Tratamiento (Viento)**\n"
      ]
    },
    {
      "cell_type": "markdown",
      "metadata": {
        "id": "cUiYNaafVuSf"
      },
      "source": [
        "## **Tratamiento (Hipodromo)**\n"
      ]
    },
    {
      "cell_type": "markdown",
      "metadata": {
        "id": "R1PqUKx7cm1H"
      },
      "source": [
        "# Visualizacion"
      ]
    },
    {
      "cell_type": "code",
      "execution_count": null,
      "metadata": {
        "id": "ksvsSNTP8R63"
      },
      "outputs": [],
      "source": [
        "train.describe()"
      ]
    },
    {
      "cell_type": "code",
      "execution_count": null,
      "metadata": {
        "id": "wpX8azW_E7iY"
      },
      "outputs": [],
      "source": [
        "train.hist(figsize = (40,30))"
      ]
    },
    {
      "cell_type": "code",
      "execution_count": null,
      "metadata": {
        "id": "UAK9CmejFKN0"
      },
      "outputs": [],
      "source": [
        "# train['Puesto'].corr(train['MediaUltimasActuaciones'])"
      ]
    },
    {
      "cell_type": "code",
      "execution_count": null,
      "metadata": {
        "id": "ky1hRPgnFhUM"
      },
      "outputs": [],
      "source": [
        "from scipy.stats import kendalltau, pearsonr, spearmanr\n",
        "def kendall_pval(x,y):\n",
        "    return kendalltau(x,y)[1]\n",
        "\n",
        "def pearsonr_pval(x,y):\n",
        "    return pearsonr(x,y)[1]\n",
        "\n",
        "def spearmanr_pval(x,y):\n",
        "    return spearmanr(x,y)[1]\n",
        "\n",
        "\n",
        "print(\"Correlation -->\", train['Puesto'].corr(train['UltimasActuacionesAlter']))    \n",
        "print(train['Puesto'].corr(train['UltimasActuacionesAlter'], method=kendall_pval))\n",
        "print(train['Puesto'].corr(train['UltimasActuacionesAlter'], method=pearsonr_pval))   \n",
        "print(train['Puesto'].corr(train['UltimasActuacionesAlter'], method=spearmanr_pval))"
      ]
    },
    {
      "cell_type": "code",
      "execution_count": null,
      "metadata": {
        "id": "D4AxCeH5FHSt"
      },
      "outputs": [],
      "source": [
        "C_mat = train.corr()\n",
        "fig = plt.figure(figsize = (15,15))\n",
        "\n",
        "#Correlation ranges from -1 to +1. Values closer to zero means there is no linear trend between the two variables. \n",
        "#The close to 1 the correlation is the more positively correlated they are; that is as one increases so does the other and the closer to 1 the stronger this relationship is. \n",
        "#A correlation closer to -1 is similar, but instead of both increasing one variable will decrease as the other increases.\n",
        "\n",
        "sns.heatmap(C_mat, vmax = .8, square = True, cmap=\"PiYG\")\n",
        "plt.show()"
      ]
    },
    {
      "cell_type": "code",
      "execution_count": null,
      "metadata": {
        "id": "8I-8VFtocpqj"
      },
      "outputs": [],
      "source": [
        "plt.figure(figsize=(12,8))\n",
        "sns.boxplot(data=train, x='Distancia', y='Puesto')\n",
        "\n",
        "plt.show()"
      ]
    },
    {
      "cell_type": "code",
      "execution_count": null,
      "metadata": {
        "id": "jZuBN_M-l4Nk"
      },
      "outputs": [],
      "source": [
        "print(len(train[(train['Distancia'] < 1600).tolist()]))\n",
        "\n",
        "print(len(train[((train['Distancia'] >= 1600) & (train['Distancia'] <= 2400) ).tolist()]))\n",
        "\n",
        "print(len(train[(train['Distancia'] >= 3200).tolist()]))"
      ]
    },
    {
      "cell_type": "code",
      "execution_count": null,
      "metadata": {
        "id": "M3o8h0QOcraE"
      },
      "outputs": [],
      "source": [
        "plt.figure(figsize=(12,8))\n",
        "sns.boxplot(data=train, x='Hora', y='Puesto')\n",
        "\n",
        "plt.show()"
      ]
    },
    {
      "cell_type": "code",
      "execution_count": null,
      "metadata": {
        "id": "rcz5Q6pOgqOq"
      },
      "outputs": [],
      "source": [
        "plt.figure(figsize=(50,8))\n",
        "sns.boxplot(data=train, x='Tipo', y='Puesto')\n",
        "\n",
        "plt.show()"
      ]
    },
    {
      "cell_type": "code",
      "execution_count": null,
      "metadata": {
        "id": "HLw83GVVgs2-"
      },
      "outputs": [],
      "source": [
        "plt.figure(figsize=(40,8))\n",
        "sns.boxplot(data=train, x='Meteorología', y='Puesto')\n",
        "\n",
        "plt.show()"
      ]
    },
    {
      "cell_type": "code",
      "execution_count": null,
      "metadata": {
        "id": "pCO2kvGFgvU2"
      },
      "outputs": [],
      "source": [
        "plt.figure(figsize=(40,8))\n",
        "sns.boxplot(data=train, x='LLuvia', y='Puesto')\n",
        "\n",
        "plt.show()"
      ]
    },
    {
      "cell_type": "code",
      "execution_count": null,
      "metadata": {
        "id": "ol6nFvIWqivn"
      },
      "outputs": [],
      "source": [
        "plt.figure(figsize=(12,8))\n",
        "sns.boxplot(data=train, x='Viento', y='Puesto')\n",
        "\n",
        "plt.show()"
      ]
    },
    {
      "cell_type": "code",
      "execution_count": null,
      "metadata": {
        "id": "uPRY73NArcFK"
      },
      "outputs": [],
      "source": [
        "plt.figure(figsize=(12,8))\n",
        "sns.boxplot(data=train, x='Temperatura', y='Puesto')\n",
        "\n",
        "plt.show()"
      ]
    },
    {
      "cell_type": "markdown",
      "metadata": {
        "id": "JCyC0Ia-eqj7"
      },
      "source": [
        "# Preprocesamiento Final"
      ]
    },
    {
      "cell_type": "code",
      "execution_count": null,
      "metadata": {
        "id": "bqepCaJ7pQT7"
      },
      "outputs": [],
      "source": [
        "train.info()"
      ]
    },
    {
      "cell_type": "code",
      "execution_count": null,
      "metadata": {
        "id": "yWXVchZK_Sv3"
      },
      "outputs": [],
      "source": [
        "pd.set_option('display.max_columns', None)\n",
        "train.head(20)"
      ]
    },
    {
      "cell_type": "code",
      "execution_count": null,
      "metadata": {
        "id": "P-rFC62tnTJ5"
      },
      "outputs": [],
      "source": [
        "import sklearn\n",
        "import sklearn.compose\n",
        "#Solo ejecutar previo a esto product para separar las palabras\n",
        "column_transformer_train = sklearn.compose.ColumnTransformer(transformers=[\n",
        "    (\"drop\", \"drop\", ['Fecha','year','day', 'Problemas','Hora', 'FechaAux', 'Mantilla', 'Terreno', 'Tipo', 'Meteorología', 'LLuvia', 'Viento', 'Temperatura', 'Hipodromo', 'Contrincantes']),\n",
        "    (\"scale\", sklearn.preprocessing.StandardScaler(), []),\n",
        "    # (\"num\", sklearn.preprocessing.MinMaxScaler(), ['Distancia', 'Edad', 'Peso']),\n",
        "    (\"one-hot\", sklearn.preprocessing.OneHotEncoder(handle_unknown=\"ignore\"), ['NombreCaballo','Propietario', 'Preparador', 'Jinete']),\n",
        "], remainder='passthrough');\n",
        "\n",
        "# column_transformer = sklearn.compose.ColumnTransformer(transformers=[\n",
        "#     (\"drop\", \"drop\", ['UltimasActuaciones','Fecha','year','day', 'Problemas','Hora']),\n",
        "#     (\"scale\", sklearn.preprocessing.StandardScaler(), []),\n",
        "#     (\"num\", sklearn.preprocessing.MinMaxScaler(), ['Distancia', 'Edad', 'Peso']),\n",
        "#     (\"one-hot\", sklearn.preprocessing.OneHotEncoder(handle_unknown=\"ignore\"), ['NombreCaballo', 'Mantilla','Propietario', 'Preparador', 'Jinete', 'FechaAux', 'Terreno', 'Tipo', 'Meteorología', 'LLuvia', 'Viento', 'TemperaturaMax', 'TemperaturaMin', 'Hipodromo']),\n",
        "# ], remainder='passthrough');"
      ]
    },
    {
      "cell_type": "code",
      "execution_count": null,
      "metadata": {
        "id": "K8Pil183vZ-_"
      },
      "outputs": [],
      "source": [
        "train = train.reset_index()\n",
        "X=train\n",
        "X_TF = X #TensorFlow\n",
        "X = X.drop([\"Puesto\"], axis = 1)"
      ]
    },
    {
      "cell_type": "code",
      "execution_count": null,
      "metadata": {
        "id": "Zv-MOXk6SQ9i"
      },
      "outputs": [],
      "source": [
        "X_transform = column_transformer_train.fit_transform(X)"
      ]
    },
    {
      "cell_type": "code",
      "execution_count": null,
      "metadata": {
        "id": "NqI3k89KY-u3"
      },
      "outputs": [],
      "source": [
        "column_transformer_train.get_feature_names()"
      ]
    },
    {
      "cell_type": "code",
      "execution_count": null,
      "metadata": {
        "id": "wDcx2HPswpdr"
      },
      "outputs": [],
      "source": [
        "train \n",
        "X_transform\n",
        "X = X_transform       #Nos quedamos con todo menos la columna objetivo, en este caso 'price'\n",
        "y = train[\"Puesto\"]"
      ]
    },
    {
      "cell_type": "code",
      "execution_count": null,
      "metadata": {
        "id": "QIaYVmOXyUhP"
      },
      "outputs": [],
      "source": [
        "# train[['NombreCaballo','MediaUltimasActuaciones']].head(128)"
      ]
    },
    {
      "cell_type": "code",
      "execution_count": null,
      "metadata": {
        "id": "iu9A7E_1w67d"
      },
      "outputs": [],
      "source": [
        "from sklearn.model_selection import train_test_split\n",
        "\n",
        "X_train, X_test, y_train, y_test = train_test_split(X, y, test_size=0.33, random_state=1920)"
      ]
    },
    {
      "cell_type": "markdown",
      "source": [
        "# Optimización\n",
        "---"
      ],
      "metadata": {
        "id": "0ljpc_EKv3zR"
      }
    },
    {
      "cell_type": "code",
      "execution_count": null,
      "metadata": {
        "id": "Lv303sRUw8h1"
      },
      "outputs": [],
      "source": [
        "from sklearn.linear_model import LinearRegression\n",
        "from sklearn.linear_model import Ridge\n",
        "from sklearn import linear_model\n",
        "from sklearn.linear_model import ElasticNet\n",
        "from sklearn.linear_model import SGDRegressor\n",
        "\n",
        "#Regresión lineal\n",
        "linear = LinearRegression()\n",
        "linear.fit(X_train, y_train)\n",
        "\n",
        "#Regresión de Ridge\n",
        "\n",
        "ridge = Ridge()\n",
        "ridge.fit(X_train, y_train)\n",
        "\n",
        "#LASSO\n",
        "\n",
        "lasso = linear_model.Lasso()\n",
        "lasso.fit(X_train, y_train)\n",
        "\n",
        "#ElasticNet\n",
        "\n",
        "elasticnet = ElasticNet()\n",
        "elasticnet.fit(X_train, y_train);\n",
        "\n",
        "\n",
        "reg = SGDRegressor(max_iter=50, random_state=43)\n",
        "reg.fit(X_train, y_train);"
      ]
    },
    {
      "cell_type": "code",
      "execution_count": null,
      "metadata": {
        "id": "rXV9YRpcw-Gf"
      },
      "outputs": [],
      "source": [
        "from sklearn.linear_model import ElasticNet\n",
        "from sklearn.metrics import mean_absolute_error\n",
        "import xgboost as xgb\n",
        "\n",
        "for i in range(0, 11):\n",
        "  for j in range(0, 11):\n",
        "    #     xgb_model = xgb.XGBRegressor(objective = 'reg:squarederror', reg_alpha=i*0.1, reg_lambda=j*0.1, verbosity=0, random_state=42, eta=0.2, tree_method=\"exact\") 148\n",
        "\n",
        "    elasticnet = ElasticNet(alpha=i*0.1, l1_ratio=j*0.1)\n",
        "    elasticnet.fit(X_train, y_train)\n",
        "    print('ElasticNet (train): ' + str(mean_absolute_error(y_train, elasticnet.predict(X_train))))\n",
        "    print(f'{i} {j} ' + str(mean_absolute_error(y_test, elasticnet.predict(X_test))))"
      ]
    },
    {
      "cell_type": "code",
      "execution_count": null,
      "metadata": {
        "id": "1vD8jvFqw_S8"
      },
      "outputs": [],
      "source": [
        "from sklearn.linear_model import ElasticNet\n",
        "from sklearn.metrics import mean_absolute_error\n",
        "import xgboost as xgb\n",
        "\n",
        "for i in range(0, 11):\n",
        "  for j in range(0, 11):\n",
        "    #     xgb_model = xgb.XGBRegressor(objective = 'reg:squarederror', reg_alpha=i*0.1, reg_lambda=j*0.1, verbosity=0, random_state=42, eta=0.2, tree_method=\"exact\") 148\n",
        "\n",
        "    xgb_model = xgb.XGBRegressor(objective = 'reg:squarederror', reg_alpha=i*0.1, reg_lambda=j*0.1, verbosity=0, random_state=42, eta=0.2, tree_method=\"exact\") #subsample ojo\n",
        "    xgb_model.fit(X_train, y_train)\n",
        "    print('ElasticNet (train): ' + str(mean_absolute_error(y_train, xgb_model.predict(X_train))))\n",
        "    print(f'{i} {j} ' + str(mean_absolute_error(y_test, xgb_model.predict(X_test))))"
      ]
    },
    {
      "cell_type": "code",
      "execution_count": null,
      "metadata": {
        "id": "VcXpNFGq4cV2"
      },
      "outputs": [],
      "source": [
        "import xgboost as xgb\n",
        "\n",
        "xgb_model = xgb.XGBRegressor(objective = 'reg:squarederror', reg_alpha=7*0.1, reg_lambda=4*0.1, verbosity=0, random_state=42, eta=0.2, tree_method=\"exact\")\n",
        "\n",
        "xgb_model.fit(X, y)\n",
        "#print('Lineal (train): ' + str(mean_absolute_error(y_train, xgb_model.predict(X))))\n",
        "#print('Lineal (test): ' + str(mean_absolute_error(y_test, xgb_model.predict(X_test))))"
      ]
    },
    {
      "cell_type": "code",
      "execution_count": null,
      "metadata": {
        "id": "ynw-X-hr4e1A"
      },
      "outputs": [],
      "source": [
        "!pip install catboost\n",
        "import catboost as cb"
      ]
    },
    {
      "cell_type": "code",
      "execution_count": null,
      "metadata": {
        "id": "a1gcUS2H4gnK"
      },
      "outputs": [],
      "source": [
        "params = {\"depth\": 10, \"learning_rate\": 0.5, \"iterations\": 1, \"l2_leaf_reg\": 5} #Iterations CatBoost\n",
        "model_cat_tun = cb.CatBoostClassifier(**params)\n",
        "model_cat_tun.fit(X,y)"
      ]
    },
    {
      "cell_type": "code",
      "source": [
        "# Import the model we are using\n",
        "from sklearn.ensemble import RandomForestRegressor\n",
        "\n",
        "\n",
        "# Instantiate model with 1000 decision trees\n",
        "rf = RandomForestRegressor(n_estimators = 2000, random_state = 42)\n",
        "# Train the model on training data\n",
        "rf.fit(X, y);"
      ],
      "metadata": {
        "id": "qQMuaE1MVL14"
      },
      "execution_count": null,
      "outputs": []
    },
    {
      "cell_type": "code",
      "source": [
        "\n",
        "from sklearn.tree import DecisionTreeRegressor\n",
        "\n",
        "# Build decision tree\n",
        "tree=DecisionTreeRegressor(max_depth=20)\n",
        "tree.fit(X, y);"
      ],
      "metadata": {
        "id": "60xMWbsmxsxy"
      },
      "execution_count": null,
      "outputs": []
    },
    {
      "cell_type": "code",
      "execution_count": null,
      "metadata": {
        "id": "jSm-yQLI4j7s"
      },
      "outputs": [],
      "source": [
        "from sklearn.metrics import mean_absolute_error\n",
        "\n",
        "\n",
        "print('RandomForest (train): ' + str(mean_absolute_error(y_train,  rf.predict(X_train))))\n",
        "print('RandomForest (test): ' + str(mean_absolute_error(y_test,  rf.predict(X_test))))\n",
        "\n",
        "\n",
        "print('---')\n",
        "\n",
        "\n",
        "print('XGB (train): ' + str(mean_absolute_error(y_train, xgb_model.predict(X_train))))\n",
        "print('XGB (test): ' + str(mean_absolute_error(y_test, xgb_model.predict(X_test))))\n",
        "\n",
        "\n",
        "\n",
        "print('---')\n",
        "\n",
        "print('Cat (train): ' + str(mean_absolute_error(y_train, model_cat_tun.predict(X_train))))\n",
        "print('Cat (test): ' + str(mean_absolute_error(y_test, model_cat_tun.predict(X_test))))\n",
        "\n",
        "\n",
        "\n",
        "print('---')\n",
        "\n",
        "print('Lineal (train): ' + str(mean_absolute_error(y_train, linear.predict(X_train))))\n",
        "print('Lineal (test): ' + str(mean_absolute_error(y_test, linear.predict(X_test))))\n",
        "\n",
        "print('---')\n",
        "\n",
        "print('Ridge (train): ' + str(mean_absolute_error(y_train, ridge.predict(X_train))))\n",
        "print('Ridge (test): ' + str(mean_absolute_error(y_test, ridge.predict(X_test))))\n",
        "\n",
        "print('---')\n",
        "\n",
        "print('LASSO (train): ' + str(mean_absolute_error(y_train, lasso.predict(X_train))))\n",
        "print('LASSO (test): ' + str(mean_absolute_error(y_test, lasso.predict(X_test))))\n",
        "\n",
        "print('---')\n",
        "\n",
        "print('ElasticNet (train): ' + str(mean_absolute_error(y_train, elasticnet.predict(X_train))))\n",
        "print('ElasticNet (test): ' + str(mean_absolute_error(y_test, elasticnet.predict(X_test))))\n",
        "\n",
        "print('---')\n",
        "\n",
        "print('SGD (train): ' + str(mean_absolute_error(y_train, reg.predict(X_train))))\n",
        "print('SGD (test): ' + str(mean_absolute_error(y_test, reg.predict(X_test))))"
      ]
    },
    {
      "cell_type": "code",
      "execution_count": null,
      "metadata": {
        "id": "IcRcAhfc4lme"
      },
      "outputs": [],
      "source": [
        "from sklearn.metrics import accuracy_score\n",
        "\n",
        "print('Lineal (train): ' + str(linear.score(X_train, y_train)))\n",
        "print('Lineal (test): ' + str(linear.score(X_test, y_test)))\n",
        "print('---')\n",
        "print('Ridge (train): ' + str(ridge.score(X_train, y_train)))\n",
        "print('Ridge (test): ' + str(ridge.score(X_test, y_test)))\n",
        "print('---')\n",
        "print('LASSO (train): ' + str(lasso.score(X_train, y_train)))\n",
        "print('LASSO (test): ' + str(lasso.score(X_test, y_test)))\n",
        "print('---')\n",
        "print('ElasticNet (train): ' + str(elasticnet.score(X_train, y_train)))\n",
        "print('ElasticNet (test): ' + str(elasticnet.score(X_test, y_test)))"
      ]
    },
    {
      "cell_type": "code",
      "execution_count": null,
      "metadata": {
        "id": "09rf5dY04muJ"
      },
      "outputs": [],
      "source": [
        "from sklearn.metrics import mean_squared_error\n",
        "from math import sqrt\n",
        "print('Lineal (train): ' + str(sqrt(mean_squared_error(y_train, linear.predict(X_train)))))\n",
        "print('Lineal (test): ' + str(sqrt(mean_squared_error(y_test, linear.predict(X_test)))))\n",
        "print('---')\n",
        "print('Ridge (train): ' + str(sqrt(mean_squared_error(y_train, ridge.predict(X_train)))))\n",
        "print('Ridge (test): ' + str(sqrt(mean_squared_error(y_test, ridge.predict(X_test)))))\n",
        "print('---')\n",
        "print('LASSO (train): ' + str(sqrt(mean_squared_error(y_train, lasso.predict(X_train)))))\n",
        "print('LASSO (test): ' + str(sqrt(mean_squared_error(y_test, lasso.predict(X_test)))))\n",
        "print('---')\n",
        "print('ElasticNet (train): ' + str(sqrt(mean_squared_error(y_train, elasticnet.predict(X_train)))))\n",
        "print('ElasticNet (test): ' + str(sqrt(mean_squared_error(y_test, elasticnet.predict(X_test)))))"
      ]
    },
    {
      "cell_type": "markdown",
      "metadata": {
        "id": "E1VOY56rAXmq"
      },
      "source": [
        "Linear\n",
        "---"
      ]
    },
    {
      "cell_type": "code",
      "execution_count": null,
      "metadata": {
        "id": "mY8EIhB7_gVL"
      },
      "outputs": [],
      "source": [
        "from sklearn.model_selection import GridSearchCV"
      ]
    },
    {
      "cell_type": "code",
      "execution_count": null,
      "metadata": {
        "id": "AzNSozol_20c"
      },
      "outputs": [],
      "source": [
        "fit_intercept = [True, False]\n",
        "copy_x = [True, False]\n",
        "normalize = [True, False]"
      ]
    },
    {
      "cell_type": "code",
      "execution_count": null,
      "metadata": {
        "id": "PgQ2RTUi-GCT"
      },
      "outputs": [],
      "source": [
        "linear_Grid = GridSearchCV(\n",
        "  estimator = LinearRegression(),\n",
        "  param_grid = dict(fit_intercept = fit_intercept, copy_X = copy_x, normalize = normalize),\n",
        "  cv = 5\n",
        ")\n",
        "linear_Grid.fit(X, y)"
      ]
    },
    {
      "cell_type": "code",
      "execution_count": null,
      "metadata": {
        "id": "0a0YfqJPh_zr"
      },
      "outputs": [],
      "source": [
        "linear_Grid.best_estimator_"
      ]
    },
    {
      "cell_type": "code",
      "execution_count": null,
      "metadata": {
        "id": "3EruRja-AIst"
      },
      "outputs": [],
      "source": [
        "linear_Grid.best_params_"
      ]
    },
    {
      "cell_type": "code",
      "execution_count": null,
      "metadata": {
        "id": "25Nb13pTG_y6"
      },
      "outputs": [],
      "source": [
        "linear_Grid.best_score_"
      ]
    },
    {
      "cell_type": "code",
      "execution_count": null,
      "metadata": {
        "id": "300m24n9AqOK"
      },
      "outputs": [],
      "source": [
        "linear = LinearRegression(fit_intercept=True, normalize=False, copy_X=True)\n",
        "linear.fit(X_train, y_train)"
      ]
    },
    {
      "cell_type": "code",
      "execution_count": null,
      "metadata": {
        "id": "gTpG2tRlCMVB"
      },
      "outputs": [],
      "source": [
        "print(\"MAE: \")\n",
        "print('Train: ' + str(mean_absolute_error(y_train, linear.predict(X_train))))\n",
        "print('Test: ' + str(mean_absolute_error(y_test, linear.predict(X_test))))\n",
        "print(\"---------------------------------------\")\n",
        "print(\"R^2: \")\n",
        "print(\"Train: \" + str(linear.score(X_train, y_train)))\n",
        "print(\"Test: \" + str(linear.score(X_test, y_test)))\n",
        "print(\"---------------------------------------\")\n",
        "print(\"RMST: \")\n",
        "print('Train: ' + str(sqrt(mean_squared_error(y_train, linear.predict(X_train)))))\n",
        "print('Test: ' + str(sqrt(mean_squared_error(y_train, linear.predict(X_train)))))"
      ]
    },
    {
      "cell_type": "markdown",
      "metadata": {
        "id": "laYT9xJwDQeC"
      },
      "source": [
        "Se puede observar que no mejora ya que los parámetros que nos da el GridSearch son los mismos que tiene de base."
      ]
    },
    {
      "cell_type": "markdown",
      "metadata": {
        "id": "NqJKZLOSDsyB"
      },
      "source": [
        "Ridge\n",
        "---"
      ]
    },
    {
      "cell_type": "code",
      "execution_count": null,
      "metadata": {
        "id": "D8RFc_ufDxdZ"
      },
      "outputs": [],
      "source": [
        "ridge_Grid = GridSearchCV(\n",
        "  estimator = Ridge(),\n",
        "  param_grid = dict(alpha= np.linspace(0, 1, 50), copy_X = copy_x, fit_intercept=fit_intercept, normalize = normalize),\n",
        "  cv = 5\n",
        "\n",
        ")\n",
        "ridge_Grid.fit(X, y)"
      ]
    },
    {
      "cell_type": "code",
      "execution_count": null,
      "metadata": {
        "id": "uVTNrcR3l3w7"
      },
      "outputs": [],
      "source": [
        "ridge_Grid.best_estimator_"
      ]
    },
    {
      "cell_type": "code",
      "execution_count": null,
      "metadata": {
        "id": "RUYsSh3kDxf4"
      },
      "outputs": [],
      "source": [
        "ridge_Grid.best_params_"
      ]
    },
    {
      "cell_type": "code",
      "execution_count": null,
      "metadata": {
        "id": "KLxVAk5jl6pg"
      },
      "outputs": [],
      "source": [
        "ridge_Grid.best_score_"
      ]
    },
    {
      "cell_type": "code",
      "execution_count": null,
      "metadata": {
        "id": "BPfYc8maDxnI"
      },
      "outputs": [],
      "source": [
        "ridge = Ridge(alpha=0.32653061224489793, copy_X=True, fit_intercept=True,\n",
        "      normalize=True, random_state=1337, solver='auto', tol=0.001)\n",
        "ridge.fit(X_train, y_train)"
      ]
    },
    {
      "cell_type": "code",
      "execution_count": null,
      "metadata": {
        "id": "gGPOsyq5D10p"
      },
      "outputs": [],
      "source": [
        "print(\"MAE: \")\n",
        "print('Train: ' + str(mean_absolute_error(y_train, ridge.predict(X_train))))\n",
        "print('Test: ' + str(mean_absolute_error(y_test, ridge.predict(X_test))))\n",
        "print(\"---------------------------------------\")\n",
        "print(\"R^2: \")\n",
        "print(\"Train: \" + str(ridge.score(X_train, y_train)))\n",
        "print(\"Test: \" + str(ridge.score(X_test, y_test)))\n",
        "print(\"---------------------------------------\")\n",
        "print(\"RMST: \")\n",
        "print('Train: ' + str(sqrt(mean_squared_error(y_train, ridge.predict(X_train)))))\n",
        "print('Test: ' + str(sqrt(mean_squared_error(y_test, ridge.predict(X_test)))))"
      ]
    },
    {
      "cell_type": "markdown",
      "metadata": {
        "id": "81swjhxYklmc"
      },
      "source": [
        "Parece que empeora ligeramente con respecto a los valores por defecto que tenía antes."
      ]
    },
    {
      "cell_type": "markdown",
      "metadata": {
        "id": "zoNlsctKMr42"
      },
      "source": [
        "LASSO\n",
        "---"
      ]
    },
    {
      "cell_type": "code",
      "execution_count": null,
      "metadata": {
        "id": "0iM6cHwP2ldQ"
      },
      "outputs": [],
      "source": [
        "lasso_Grid = GridSearchCV(estimator = linear_model.Lasso(), param_grid = dict(alpha= np.linspace(0.05,1,20)), cv = 5)\n",
        "lasso_Grid.fit(X, y)"
      ]
    },
    {
      "cell_type": "code",
      "execution_count": null,
      "metadata": {
        "id": "alIQtheS2llV"
      },
      "outputs": [],
      "source": [
        "lasso_Grid.best_params_"
      ]
    },
    {
      "cell_type": "code",
      "execution_count": null,
      "metadata": {
        "id": "wQ6NsKWS2ls1"
      },
      "outputs": [],
      "source": [
        "lasso = linear_model.Lasso(alpha=1, random_state=1337)\n",
        "lasso.fit(X_train, y_train)"
      ]
    },
    {
      "cell_type": "code",
      "execution_count": null,
      "metadata": {
        "id": "BK4GQtLL2l0C"
      },
      "outputs": [],
      "source": [
        "print(\"MAE: \")\n",
        "print('Train: ' + str(mean_absolute_error(y_train, lasso.predict(X_train))))\n",
        "print('Test: ' + str(mean_absolute_error(y_test, lasso.predict(X_test))))\n",
        "print(\"---------------------------------------\")\n",
        "print(\"R^2: \")\n",
        "print(\"Train: \" + str(lasso.score(X_train, y_train)))\n",
        "print(\"Test: \" + str(lasso.score(X_test, y_test)))\n",
        "print(\"---------------------------------------\")\n",
        "print(\"RMST: \")\n",
        "print('Train: ' + str(sqrt(mean_squared_error(y_train, lasso.predict(X_train)))))\n",
        "print('Test: ' + str(sqrt(mean_squared_error(y_train, lasso.predict(X_train)))))"
      ]
    },
    {
      "cell_type": "markdown",
      "metadata": {
        "id": "vyydY4zBIIaC"
      },
      "source": [
        "Se queda igual que con los valores de base."
      ]
    },
    {
      "cell_type": "markdown",
      "metadata": {
        "id": "ZtAIFzIZOx93"
      },
      "source": [
        "ElasticNet\n",
        "---"
      ]
    },
    {
      "cell_type": "markdown",
      "metadata": {
        "id": "j9eChANL709v"
      },
      "source": [
        "Este regresor a veces funciona y a veces explota, dejamos guardado los resultados de cuando ha funcionado. De todos modos nos sale el siguiente error:<br>\n",
        "\n",
        "\n",
        "```\n",
        "# /usr/local/lib/python3.6/dist-packages/sklearn linear_model_coordinate_descent.py:476: ConvergenceWarning: Objective did not converge.\n",
        "```\n",
        "\n"
      ]
    },
    {
      "cell_type": "code",
      "execution_count": null,
      "metadata": {
        "id": "F8Qp6_727e11"
      },
      "outputs": [],
      "source": [
        "elastic_Grid = GridSearchCV(\n",
        "  estimator = ElasticNet(),\n",
        "  param_grid = dict(alpha=np.linspace(0.1,1,2), l1_ratio=np.linspace(0,1,2)),\n",
        "  cv = 5\n",
        ")\n",
        "elastic_Grid.fit(X, y)"
      ]
    },
    {
      "cell_type": "code",
      "execution_count": null,
      "metadata": {
        "id": "kDpl5-JtmrlO"
      },
      "outputs": [],
      "source": [
        "elastic_Grid.best_params_"
      ]
    },
    {
      "cell_type": "code",
      "execution_count": null,
      "metadata": {
        "id": "PhiAH0PEmrGY"
      },
      "outputs": [],
      "source": [
        "elasticnet = ElasticNet(alpha = 1.0, l1_ratio = 1, fit_intercept=True, normalize=False, copy_X=True)\n",
        "elasticnet.fit(X_train, y_train)"
      ]
    },
    {
      "cell_type": "code",
      "execution_count": null,
      "metadata": {
        "id": "N6QpoZnWmqB9"
      },
      "outputs": [],
      "source": [
        "print(\"MAE: \")\n",
        "print('Train: ' + str(mean_absolute_error(y_train, elasticnet.predict(X_train))))\n",
        "print('Test: ' + str(mean_absolute_error(y_test, elasticnet.predict(X_test))))\n",
        "print(\"---------------------------------------\")\n",
        "print(\"R^2: \")\n",
        "print(\"Train: \" + str(lasso.score(X_train, y_train)))\n",
        "print(\"Test: \" + str(lasso.score(X_test, y_test)))\n",
        "print(\"---------------------------------------\")\n",
        "print(\"RMST: \")\n",
        "print('Train: ' + str(sqrt(mean_squared_error(y_train, elasticnet.predict(X_train)))))\n",
        "print('Test: ' + str(sqrt(mean_squared_error(y_train, elasticnet.predict(X_train)))))"
      ]
    },
    {
      "cell_type": "markdown",
      "metadata": {
        "id": "e3RikP5HVUSW"
      },
      "source": [
        "# Validación Cruzada\n",
        "---"
      ]
    },
    {
      "cell_type": "markdown",
      "metadata": {
        "id": "KJkv475twgAc"
      },
      "source": [
        "## Linear"
      ]
    },
    {
      "cell_type": "markdown",
      "metadata": {
        "id": "AV_DNK0Cwu29"
      },
      "source": [
        "MAE"
      ]
    },
    {
      "cell_type": "code",
      "execution_count": null,
      "metadata": {
        "id": "N_57qnnBvv7A"
      },
      "outputs": [],
      "source": [
        "from sklearn.model_selection import cross_val_score\n",
        "from sklearn.model_selection import RepeatedKFold\n",
        "from sklearn.model_selection import cross_validate"
      ]
    },
    {
      "cell_type": "code",
      "execution_count": null,
      "metadata": {
        "id": "XOPNmINIv5fu"
      },
      "outputs": [],
      "source": [
        "cv_scores_linearMAE = cross_val_score(\n",
        "                estimator = linear,\n",
        "                X         = X,\n",
        "                y         = y,\n",
        "                scoring   = 'neg_mean_absolute_error',\n",
        "                cv        = 5\n",
        "             )\n",
        "print(f\"Métricas validación cruzada: {cv_scores_linearMAE}\")\n",
        "print(f\"Média métricas de validación cruzada: {cv_scores_linearMAE.mean()}\")"
      ]
    },
    {
      "cell_type": "markdown",
      "metadata": {
        "id": "HJhfmfvvwyP8"
      },
      "source": [
        "R^2"
      ]
    },
    {
      "cell_type": "code",
      "execution_count": null,
      "metadata": {
        "id": "F6Q4gC0bLXNn"
      },
      "outputs": [],
      "source": [
        "cv_scores_linearR = cross_val_score(\n",
        "                estimator = linear,\n",
        "                X         = X,\n",
        "                y         = y,\n",
        "                scoring   = 'r2',\n",
        "                cv        = 5\n",
        "             )\n",
        "print(f\"Métricas validación cruzada: {cv_scores_linearR}\")\n",
        "print(f\"Média métricas de validación cruzada: {cv_scores_linearR.mean()}\")"
      ]
    },
    {
      "cell_type": "markdown",
      "metadata": {
        "id": "LCEc01CHw1ZE"
      },
      "source": [
        "RMSE"
      ]
    },
    {
      "cell_type": "code",
      "execution_count": null,
      "metadata": {
        "id": "4QPkbFjhLXlY"
      },
      "outputs": [],
      "source": [
        "cv_scores_linearRMSE = cross_val_score(\n",
        "                estimator = linear,\n",
        "                X         = X,\n",
        "                y         = y,\n",
        "                scoring   = 'neg_mean_squared_error',\n",
        "                cv        = 5\n",
        "             )\n",
        "print(f\"Métricas validación cruzada: {cv_scores_linearRMSE}\")\n",
        "print(f\"Média métricas de validación cruzada: {cv_scores_linearRMSE.mean()}\")"
      ]
    },
    {
      "cell_type": "markdown",
      "metadata": {
        "id": "aX7A5lFxKi1Z"
      },
      "source": [
        "## Ridge\n",
        "---"
      ]
    },
    {
      "cell_type": "markdown",
      "metadata": {
        "id": "i7T6L4eLK5cY"
      },
      "source": [
        "MAE"
      ]
    },
    {
      "cell_type": "code",
      "execution_count": null,
      "metadata": {
        "id": "eP244yZaL6OY"
      },
      "outputs": [],
      "source": [
        "cv_scores_ridgeMAE = cross_val_score(\n",
        "                estimator = ridge,\n",
        "                X         = X,\n",
        "                y         = y,\n",
        "                scoring   = 'neg_mean_absolute_error',\n",
        "                cv        = 5\n",
        "             )\n",
        "print(f\"Métricas validación cruzada: {cv_scores_ridgeMAE}\")\n",
        "print(f\"Média métricas de validación cruzada: {cv_scores_ridgeMAE.mean()}\")"
      ]
    },
    {
      "cell_type": "markdown",
      "metadata": {
        "id": "cyasqzbTK7nH"
      },
      "source": [
        "R^2"
      ]
    },
    {
      "cell_type": "code",
      "execution_count": null,
      "metadata": {
        "id": "1qB7zRVCL663"
      },
      "outputs": [],
      "source": [
        "cv_scores_ridgeR = cross_val_score(\n",
        "                estimator = ridge,\n",
        "                X         = X,\n",
        "                y         = y,\n",
        "                scoring   = 'r2',\n",
        "                cv        = 5\n",
        "             )\n",
        "print(f\"Métricas validación cruzada: {cv_scores_ridgeR}\")\n",
        "print(f\"Média métricas de validación cruzada: {cv_scores_ridgeR.mean()}\")"
      ]
    },
    {
      "cell_type": "markdown",
      "metadata": {
        "id": "3Vm-JkDoK9DX"
      },
      "source": [
        "RMSE"
      ]
    },
    {
      "cell_type": "code",
      "execution_count": null,
      "metadata": {
        "id": "i4gq6Dc6L7W3"
      },
      "outputs": [],
      "source": [
        "cv_scores_ridgeRMSE = cross_val_score(\n",
        "                estimator = ridge,\n",
        "                X         = X,\n",
        "                y         = y,\n",
        "                scoring   = 'neg_mean_squared_error',\n",
        "                cv        = 5\n",
        "             )\n",
        "print(f\"Métricas validación cruzada: {cv_scores_ridgeRMSE}\")\n",
        "print(f\"Média métricas de validación cruzada: {cv_scores_ridgeRMSE.mean()}\")"
      ]
    },
    {
      "cell_type": "markdown",
      "metadata": {
        "id": "3hIBAw3uKm1f"
      },
      "source": [
        "## LASSO\n",
        "---"
      ]
    },
    {
      "cell_type": "markdown",
      "metadata": {
        "id": "u5XQ5xWFK_IW"
      },
      "source": [
        "MAE"
      ]
    },
    {
      "cell_type": "code",
      "execution_count": null,
      "metadata": {
        "id": "ihKKRPvOMj04"
      },
      "outputs": [],
      "source": [
        "cv_scores_lassoMAE = cross_val_score(\n",
        "                estimator = lasso,\n",
        "                X         = X,\n",
        "                y         = y,\n",
        "                scoring   = 'neg_mean_absolute_error',\n",
        "                cv        = 5\n",
        "             )\n",
        "print(f\"Métricas validación cruzada: {cv_scores_lassoMAE}\")\n",
        "print(f\"Média métricas de validación cruzada: {cv_scores_lassoMAE.mean()}\")"
      ]
    },
    {
      "cell_type": "markdown",
      "metadata": {
        "id": "e7RkvicIK_8e"
      },
      "source": [
        "R^2"
      ]
    },
    {
      "cell_type": "code",
      "execution_count": null,
      "metadata": {
        "id": "J40hMq5CMkR-"
      },
      "outputs": [],
      "source": [
        "cv_scores_lassoR = cross_val_score(\n",
        "                estimator = lasso,\n",
        "                X         = X,\n",
        "                y         = y,\n",
        "                scoring   = 'r2',\n",
        "                cv        = 5\n",
        "             )\n",
        "print(f\"Métricas validación cruzada: {cv_scores_lassoR}\")\n",
        "print(f\"Média métricas de validación cruzada: {cv_scores_lassoR.mean()}\")"
      ]
    },
    {
      "cell_type": "markdown",
      "metadata": {
        "id": "c8LuPfVZLBGP"
      },
      "source": [
        "RMSE"
      ]
    },
    {
      "cell_type": "code",
      "execution_count": null,
      "metadata": {
        "id": "brqdCkmVMk5G"
      },
      "outputs": [],
      "source": [
        "cv_scores_lassoRMSE = cross_val_score(\n",
        "                estimator = lasso,\n",
        "                X         = X,\n",
        "                y         = y,\n",
        "                scoring   = 'neg_mean_squared_error',\n",
        "                cv        = 5\n",
        "             )\n",
        "print(f\"Métricas validación cruzada: {cv_scores_lassoRMSE}\")\n",
        "print(f\"Média métricas de validación cruzada: {cv_scores_lassoRMSE.mean()}\")"
      ]
    },
    {
      "cell_type": "markdown",
      "metadata": {
        "id": "OWEb9BGDKp53"
      },
      "source": [
        "## ElasticNet\n",
        "---"
      ]
    },
    {
      "cell_type": "markdown",
      "metadata": {
        "id": "8mYny4-cLMV_"
      },
      "source": [
        "MAE"
      ]
    },
    {
      "cell_type": "code",
      "execution_count": null,
      "metadata": {
        "id": "-2NeCduoNWdB"
      },
      "outputs": [],
      "source": [
        "cv_scores_netMAE = cross_val_score(\n",
        "                estimator = elasticnet,\n",
        "                X         = X,\n",
        "                y         = y,\n",
        "                scoring   = 'neg_mean_absolute_error',\n",
        "                cv        = 5\n",
        "             )\n",
        "print(f\"Métricas validación cruzada: {cv_scores_netMAE}\")\n",
        "print(f\"Média métricas de validación cruzada: {cv_scores_netMAE.mean()}\")"
      ]
    },
    {
      "cell_type": "markdown",
      "metadata": {
        "id": "hiPNTcHYLN-3"
      },
      "source": [
        "R^2"
      ]
    },
    {
      "cell_type": "code",
      "execution_count": null,
      "metadata": {
        "id": "_hcKpKQ-NW-_"
      },
      "outputs": [],
      "source": [
        "cv_scores_netR = cross_val_score(\n",
        "                estimator = elasticnet,\n",
        "                X         = X,\n",
        "                y         = y,\n",
        "                scoring   = 'r2',\n",
        "                cv        = 5\n",
        "             )\n",
        "print(f\"Métricas validación cruzada: {cv_scores_netR}\")\n",
        "print(f\"Média métricas de validación cruzada: {cv_scores_netR.mean()}\")"
      ]
    },
    {
      "cell_type": "markdown",
      "metadata": {
        "id": "yOePOV1eLPdX"
      },
      "source": [
        "RMSE"
      ]
    },
    {
      "cell_type": "code",
      "execution_count": null,
      "metadata": {
        "id": "8B0Snmf9NXdP"
      },
      "outputs": [],
      "source": [
        "cv_scores_netRMSE = cross_val_score(\n",
        "                estimator = elasticnet,\n",
        "                X         = X,\n",
        "                y         = y,\n",
        "                scoring   = 'neg_mean_squared_error',\n",
        "                cv        = 5\n",
        "             )\n",
        "print(f\"Métricas validación cruzada: {cv_scores_netRMSE}\")\n",
        "print(f\"Média métricas de validación cruzada: {cv_scores_netRMSE.mean()}\")"
      ]
    },
    {
      "cell_type": "markdown",
      "metadata": {
        "id": "W9hxJma87Flr"
      },
      "source": [
        "## XGBoost\n",
        "---"
      ]
    },
    {
      "cell_type": "markdown",
      "metadata": {
        "id": "XmNX75HM7Flr"
      },
      "source": [
        "MAE"
      ]
    },
    {
      "cell_type": "code",
      "execution_count": null,
      "metadata": {
        "id": "XK6AW8JC7Flr"
      },
      "outputs": [],
      "source": [
        "cv_scores_netMAE = cross_val_score(\n",
        "                estimator = xgb_model,\n",
        "                X         = X,\n",
        "                y         = y,\n",
        "                scoring   = 'neg_mean_absolute_error',\n",
        "                cv        = 5\n",
        "             )\n",
        "print(f\"Métricas validación cruzada: {cv_scores_netMAE}\")\n",
        "print(f\"Média métricas de validación cruzada: {cv_scores_netMAE.mean()}\")"
      ]
    },
    {
      "cell_type": "markdown",
      "metadata": {
        "id": "NAbfYdSF7Flr"
      },
      "source": [
        "R^2"
      ]
    },
    {
      "cell_type": "code",
      "execution_count": null,
      "metadata": {
        "id": "7Rh2k2Na7Flr"
      },
      "outputs": [],
      "source": [
        "cv_scores_netR = cross_val_score(\n",
        "                estimator = xgb_model,\n",
        "                X         = X,\n",
        "                y         = y,\n",
        "                scoring   = 'r2',\n",
        "                cv        = 5\n",
        "             )\n",
        "print(f\"Métricas validación cruzada: {cv_scores_netR}\")\n",
        "print(f\"Média métricas de validación cruzada: {cv_scores_netR.mean()}\")"
      ]
    },
    {
      "cell_type": "markdown",
      "metadata": {
        "id": "CcwsbHnQ7Fls"
      },
      "source": [
        "RMSE"
      ]
    },
    {
      "cell_type": "code",
      "execution_count": null,
      "metadata": {
        "id": "wI7FR0yp7Fls"
      },
      "outputs": [],
      "source": [
        "cv_scores_netRMSE = cross_val_score(\n",
        "                estimator = xgb_model,\n",
        "                X         = X,\n",
        "                y         = y,\n",
        "                scoring   = 'neg_mean_squared_error',\n",
        "                cv        = 5\n",
        "             )\n",
        "print(f\"Métricas validación cruzada: {cv_scores_netRMSE}\")\n",
        "print(f\"Média métricas de validación cruzada: {cv_scores_netRMSE.mean()}\")"
      ]
    },
    {
      "cell_type": "markdown",
      "metadata": {
        "id": "VFPEBuWcJ5pj"
      },
      "source": [
        "# Prueba\n",
        "---"
      ]
    },
    {
      "cell_type": "code",
      "execution_count": null,
      "metadata": {
        "id": "_kY3HQxsnz5L"
      },
      "outputs": [],
      "source": [
        "train = test\n",
        "train['NombreCaballo'].value_counts()[:35].sort_values(ascending=False) #90 primeras apariencias >= 3"
      ]
    },
    {
      "cell_type": "markdown",
      "metadata": {
        "id": "pb5yf_8zjZ5Z"
      },
      "source": [
        "# Ajuste Preprocesamiento\n",
        "- Borrar Puesto\n",
        "- Ajuste Listas Apariciones"
      ]
    },
    {
      "cell_type": "code",
      "execution_count": null,
      "metadata": {
        "id": "NVpslHQnqWu-"
      },
      "outputs": [],
      "source": [
        "train = train.drop('DistanciaMeta', axis=1)\n",
        "train = train.drop('Dividendo', axis=1)"
      ]
    },
    {
      "cell_type": "code",
      "execution_count": null,
      "metadata": {
        "id": "L1pulPHSx-yS"
      },
      "outputs": [],
      "source": [
        "train['NombreCaballo'] = train['NombreCaballo'].str.partition('(')[0]\n",
        "print(listAparicionesHorse)\n",
        "listTestHorse= eraseBlank(listaNombreCaballo)\n",
        "\n",
        "\n",
        "\n",
        "train['Propietario'] = train['Propietario'].str.strip()\n",
        "train['NombreCaballo'] = train['NombreCaballo'].str.strip()\n",
        "train['Jinete'] = train['Jinete'].str.strip()\n",
        "train['Preparador'] = train['Preparador'].str.strip()\n",
        "\n",
        "train.loc[~train[\"Propietario\"].isin(listAparicionesOwner), \"Propietario\"] = \"OtherOwner\"\n",
        "# train.loc[~train[\"NombreCaballo\"].isin(listAparicionesHorse), \"NombreCaballo\"] = \"OtherHorse\" #Lo hacemos mas tarde\n",
        "train.loc[~train[\"Jinete\"].isin(listAparicionesJockey), \"Jinete\"] = \"OtherJockey\"\n",
        "train.loc[~train[\"Preparador\"].isin(listAparicionesTrainer), \"Preparador\"] = \"OtherTrainer\"\n",
        "\n",
        "# if 'OtherOwner' not in train:\n",
        "#   train['OtherOwner'] = 0\n",
        "\n",
        "# if 'OtherHorse' not in train:\n",
        "#   train['OtherHorse'] = 0\n",
        "\n",
        "# if 'OtherJockey' not in train:\n",
        "#   train['OtherJockey'] = 0\n",
        "\n",
        "# if 'OtherTrainer' not in train:\n",
        "#   train['OtherTrainer'] = 0\n"
      ]
    },
    {
      "cell_type": "markdown",
      "metadata": {
        "id": "w1hevyW7lRwj"
      },
      "source": [
        "# Preprocesamiento\n",
        "---"
      ]
    },
    {
      "cell_type": "code",
      "execution_count": null,
      "metadata": {
        "id": "p5kdoX88lRwk"
      },
      "outputs": [],
      "source": [
        "train['Jinete'] = train['Jinete'].str.partition('(')[0]\n",
        "train['Preparador'] = train['Preparador'].str.partition('(')[0]\n",
        "train['Propietario'] = train['Propietario'].str.partition('(')[0]\n",
        "train['NombreCaballo'] = train['NombreCaballo'].str.partition('(')[0]\n",
        "\n",
        "train.head(5)"
      ]
    },
    {
      "cell_type": "markdown",
      "metadata": {
        "id": "Jh3WSnxElRwm"
      },
      "source": [
        "## **Tratamiento (Peso)**"
      ]
    },
    {
      "cell_type": "code",
      "execution_count": null,
      "metadata": {
        "id": "ySrMtSGYlRwn"
      },
      "outputs": [],
      "source": [
        "# train['Peso'] = train['Peso'].str.partition('-')[0]\n",
        "# train['Peso'] = train['Peso'].str[:2]"
      ]
    },
    {
      "cell_type": "code",
      "execution_count": null,
      "metadata": {
        "id": "JXAJNsvdlRwn"
      },
      "outputs": [],
      "source": [
        "train['Peso'].value_counts()[:35].sort_values(ascending=False) #90 primeras apariencias >= 3"
      ]
    },
    {
      "cell_type": "markdown",
      "metadata": {
        "id": "62zkqi9-lRwr"
      },
      "source": [
        "## **Tratamiento (Fecha)**\n"
      ]
    },
    {
      "cell_type": "code",
      "execution_count": null,
      "metadata": {
        "id": "ueTnN4gelRwr"
      },
      "outputs": [],
      "source": [
        "import datetime as dt\n",
        "from datetime import date\n",
        "\n",
        "\n",
        "def switchMonth(month):\n",
        "  if month == 'ENERO':  \n",
        "   return '01'\n",
        "  elif month == 'FEBRERO':\n",
        "    return '02'            \n",
        "  elif month == 'MARZO':\n",
        "   return '03'\n",
        "  elif month == 'ABRIL':\n",
        "    return '04' \n",
        "  elif month == 'MAYO':\n",
        "    return '05'                  \n",
        "  elif month == 'JUNIO':\n",
        "    return '06'\n",
        "  elif month == 'JULIO':\n",
        "    return '07'\n",
        "  elif month == 'AGOSTO':\n",
        "    return '08'\n",
        "  elif month == 'SEPTIEMBRE':\n",
        "    return '09'\n",
        "  elif month == 'OCTUBRE':\n",
        "     return '10'\n",
        "  elif month == 'NOVIEMBRE':\n",
        "    return '11'\n",
        "  elif month == 'DICIEMBRE':\n",
        "    return '12'\n",
        "\n",
        "def convertDate(fechas):\n",
        "  index = 0\n",
        "  for element in fechas:\n",
        "    sum = 0\n",
        "    year = element[-4:]\n",
        "    dateAux = year\n",
        "    day = element[:2]\n",
        "    if(int(day) < 10):\n",
        "      day = \"0\" + day[:1]\n",
        "    month = element[5:]\n",
        "    month = ''.join(month.split())[:-6].upper()\n",
        "    month = switchMonth(month)\n",
        "    dateAux = dateAux + \"-\" + month + \"-\" + day\n",
        "\n",
        "    today = date.today()\n",
        "    yearToday = int(str(today)[:4])\n",
        "    monthToday = int(str(today)[5:7])\n",
        "    dayToday = int(str(today)[8:10])\n",
        "    if(yearToday > int(year)):\n",
        "      sum += (yearToday - int(year))*365\n",
        "    sum += (monthToday - int(month))*30\n",
        "    sum += (dayToday - int(day))\n",
        "    datetimeAux = dt.datetime(int(year), int(month), int(day))\n",
        "    train.at[index, 'FechaAux'] = datetimeAux\n",
        "\n",
        "    train.at[index, 'year'] = int(year)\n",
        "    train.at[index, 'month'] = int(month)\n",
        "    train.at[index, 'day'] = int(day)\n",
        "    calculateSeason(int(month), index)\n",
        "\n",
        "    train.at[index, 'DiasDesdeCarrera'] = sum\n",
        "    index += 1\n",
        "   \n",
        "def calculateSeason(month, index):\n",
        "  # train['Invierno'] = 0\n",
        "  # train['Primavera'] = 0\n",
        "  # train['Verano'] = 0\n",
        "  train['Otoño'] = 0\n",
        "  # if(month >= 12 and month <=2):\n",
        "  #    train.at[index, 'Invierno'] = month\n",
        "  # if(month >= 3 and month <=5):\n",
        "  #    train.at[index, 'Primavera'] = month\n",
        "  # if(month >= 6 and month <=8):\n",
        "  #    train.at[index, 'Verano'] = month\n",
        "  if(month >= 9 and month <=11):\n",
        "     train.at[index, 'Otoño'] = month\n",
        "\n",
        "\n",
        "\n",
        "\n",
        "t_array = train[\"Fecha\"] \n",
        "convertDate(t_array)\n",
        "train['FechaAux'].head(70)"
      ]
    },
    {
      "cell_type": "code",
      "execution_count": null,
      "metadata": {
        "id": "UdUYBQpplRws"
      },
      "outputs": [],
      "source": [
        "train.head(5)"
      ]
    },
    {
      "cell_type": "code",
      "execution_count": null,
      "metadata": {
        "id": "69cMMbqulRws"
      },
      "outputs": [],
      "source": [
        "import datetime\n",
        "\n",
        "def daysSincePreviousRace(nombres):\n",
        "  index = 0\n",
        "  for caballo in nombres:\n",
        "    indexNombre = 0\n",
        "    nombresAparece = []\n",
        "    for otroCaballo in nombres:\n",
        "      if(otroCaballo == caballo):\n",
        "        nombresAparece.append(indexNombre)\n",
        "      indexNombre += 1\n",
        "\n",
        "    day_actual = train.at[index, 'day']\n",
        "    month_actual = train.at[index, 'month']\n",
        "    year_actual = train.at[index, 'year']\n",
        "\n",
        "    fechaCaballoActual = dt.datetime(int(year_actual), int(month_actual), int(day_actual))\n",
        "    fechaMasReciente = dt.datetime(2020, 1, 1)\n",
        "    indexAux2 = 0\n",
        "    fechaCambiada = False\n",
        "    for aparicion in nombresAparece:\n",
        "      if(train.at[aparicion, 'FechaAux'] < fechaCaballoActual): \n",
        "        if(indexAux2 == 0):\n",
        "          fechaMasReciente = train.at[aparicion, 'FechaAux']\n",
        "          fechaCambiada = True\n",
        "          indexAux2 += 1\n",
        "        elif(train.at[aparicion, 'FechaAux'] > fechaMasReciente):\n",
        "          fechaMasReciente =  train.at[aparicion, 'FechaAux']\n",
        "    if(fechaCambiada):\n",
        "      diferenciaDias = (fechaCaballoActual - fechaMasReciente).days\n",
        "    else:\n",
        "      diferenciaDias = 45 # Penalización si no aparece en carrera anterior\n",
        "    train.at[index, 'DaysSincePreviousRace'] = diferenciaDias\n",
        "    index += 1\n",
        "\n",
        "\n",
        "eventos = train['NombreCaballo']\n",
        "daysSincePreviousRace(eventos)\n",
        "train['DaysSincePreviousRace'].head(35)\n",
        "# Recorro los nombres de caballos y guardo en un array los index de las columnas ligadas a un nombre de Caballo y despues recorrer las fechas y cuando coincida el array comprobar si ese dato\n",
        "# es mas antiguo que la fecha de la fila actual y en el caso de serlo compruebo si es la más antigua de entre las anteriores participaciones\n",
        "\n",
        "\n",
        "\n",
        "\n",
        "\n",
        "\n",
        "\n",
        "\n",
        "\n"
      ]
    },
    {
      "cell_type": "markdown",
      "metadata": {
        "id": "xVd7IHIr49HF"
      },
      "source": [
        "## Calculo Contricantes\n",
        "---"
      ]
    },
    {
      "cell_type": "code",
      "execution_count": null,
      "metadata": {
        "id": "2_4wnsGB49HG"
      },
      "outputs": [],
      "source": [
        "def calculoContrincantes(listaF, listaH, longitud):\n",
        "  for fecha in listaF:\n",
        "    for horario in listaH:\n",
        "      index = 0\n",
        "      listaIndex = []\n",
        "      sum = 0\n",
        "      while(index < longitud):\n",
        "        if((train.at[index, 'Fecha'] == fecha ) and (train.at[index, 'Hora'] == horario )):\n",
        "          listaIndex.append(index)\n",
        "          sum += 1\n",
        "        index += 1\n",
        "      for indice in listaIndex:\n",
        "        train.at[indice, 'Contrincantes'] = sum\n",
        "\n",
        "\n",
        "listaFechas = train['Fecha'].unique().tolist()\n",
        "listaHorarios = train['Hora'].unique().tolist()\n",
        "longitud = len(train.index)\n",
        "\n",
        "calculoContrincantes(listaFechas, listaHorarios, longitud)\n",
        "\n",
        "\n"
      ]
    },
    {
      "cell_type": "markdown",
      "metadata": {
        "id": "DSF7H_HP4-4Z"
      },
      "source": [
        "## **Busqueda Caballos Ganadores en ciertas condiciones**\n",
        "---"
      ]
    },
    {
      "cell_type": "markdown",
      "metadata": {
        "id": "Vmh4YhzZYZMd"
      },
      "source": [
        "### Busqueda UltimasActuacionesAlter\n",
        "---"
      ]
    },
    {
      "cell_type": "code",
      "execution_count": null,
      "metadata": {
        "id": "YZqPe38tYZMe"
      },
      "outputs": [],
      "source": [
        "def ultimasActuacionesIter(indices, indicesOg):                      \n",
        "  for i in range(indices):\n",
        "    print(i)\n",
        "    nombre = train.at[i, 'NombreCaballo']\n",
        "    fecha = train.at[i, 'FechaAux']\n",
        "    media = 0.0\n",
        "    sum = 0.0\n",
        "\n",
        "    for j in range(indicesOg):\n",
        "      fechaAux = trainOg.at[j, 'FechaAux']\n",
        "      nombreAux= trainOg.at[j, 'NombreCaballo']\n",
        "      if((nombreAux == nombre and (fechaAux < fecha))):\n",
        "        print(\"Valor Puesto-->\", trainOg.at[j, 'Puesto'], \"/\", fechaAux)\n",
        "        media += (trainOg.at[j, 'Puesto'] )\n",
        "        sum += 1\n",
        "    print(\"Suma Medias -->\", media, \"/\", sum, \"<-- Nº Act Anteriores\")\n",
        "    if(sum != 0):\n",
        "      media /= sum\n",
        "    if(sum == 0):\n",
        "      media = 2.5\n",
        "      train.at[i, 'UltimasActuacionesAlter'] = media\n",
        "    else:\n",
        "      train.at[i, 'UltimasActuacionesAlter'] = media\n",
        "    print(i, \"-->\", nombre, \" MediaUltAct->\", media) \n",
        "\n",
        "        \n",
        "indicesOg = len(trainOg.index)\n",
        "indices = len(train.index)\n",
        "ultimasActuacionesIter(indices, indicesOg)"
      ]
    },
    {
      "cell_type": "code",
      "execution_count": null,
      "metadata": {
        "id": "sVUAA2X6YZMe"
      },
      "outputs": [],
      "source": [
        "train['UltimasActuacionesAlter'][:20].value_counts().sort_values(ascending=False) #90 primeras apariencias >= 3"
      ]
    },
    {
      "cell_type": "markdown",
      "metadata": {
        "id": "dtcWgeS94-4a"
      },
      "source": [
        "### Busqueda Distancia\n",
        "---"
      ]
    },
    {
      "cell_type": "code",
      "execution_count": null,
      "metadata": {
        "id": "PUEEKuX_6G9-"
      },
      "outputs": [],
      "source": [
        "pd.set_option('display.max_rows', None)\n",
        "train.head(70)"
      ]
    },
    {
      "cell_type": "code",
      "execution_count": null,
      "metadata": {
        "id": "VRq4PK4b4-4a"
      },
      "outputs": [],
      "source": [
        "def comprobacionTipoDistanciaTrain(indice):\n",
        "  tipo = 0   # 0, 1, 2 / Corta, Media, Larga\n",
        "  val = trainOg.at[indice, 'Distancia']\n",
        "  if(val >= 3200):\n",
        "    tipo = 2\n",
        "  if((val >= 1600) & (val <= 2400)):\n",
        "    tipo = 1\n",
        "  return tipo;\n",
        "\n",
        "def comprobacionTipoDistanciaTest(indice):\n",
        "  tipo = 0   # 0, 1, 2 / Corta, Media, Larga\n",
        "  val = train.at[indice, 'Distancia']\n",
        "  if(val >= 3200):\n",
        "    tipo = 2\n",
        "  if((val >= 1600) & (val <= 2400)):\n",
        "    tipo = 1\n",
        "  return tipo;\n",
        "  \n",
        "def destrezaDistanciaTest(indices,indicesOg):                      \n",
        "  for i in range(indices):\n",
        "    tipo = comprobacionTipoDistanciaTest(i)\n",
        "    nombre = train.at[i, 'NombreCaballo']\n",
        "    fecha = train.at[i, 'FechaAux']\n",
        "    media = 0 # Media carreras\n",
        "    sum = 0 # Numero Carreras\n",
        "    mediaAux = 0 \n",
        "    sumAux = 0\n",
        "    for j in range(indicesOg):\n",
        "      fechaAux = trainOg.at[j, 'FechaAux']\n",
        "      tipoAux = comprobacionTipoDistanciaTrain(j)\n",
        "      nombreAux= trainOg.at[j, 'NombreCaballo']\n",
        "      if(nombreAux == nombre):\n",
        "        if((fechaAux < fecha) & (tipoAux == tipo)):\n",
        "          media += (trainOg.at[j, 'Puesto'])\n",
        "          sum += 1\n",
        "        elif((fechaAux < fecha) & (tipoAux != tipo)):\n",
        "          mediaAux += (trainOg.at[j, 'Puesto'])\n",
        "          sumAux += 1\n",
        "    if(sum != 0):\n",
        "      media /= sum\n",
        "    if(sumAux != 0):\n",
        "      mediaAux /= sumAux\n",
        "    print(i, \"-->\", nombre, \" - Media->\", media, \"/MediaAux-->\", mediaAux, \"/Numero Destreza(\", sum, sumAux, \"):Numero Otros/\") # Si hay mas de 2 participaciones (en esas condiciones y resto ) y con una media al menos un 33% mas baja , es valido\n",
        "    if((sum >= 2) & (sumAux >= 2) & (((1.1* media) < mediaAux))): # Si hay mas de 2 participaciones en esas condiciones y con una media al menos un 33% mas baja , es valido\n",
        "      train.at[i, 'DestrezaDistancia'] = 1\n",
        "    else:\n",
        "      train.at[i, 'DestrezaDistancia'] = 0\n",
        "        \n",
        "    #IMP! Valorar si es buena idea crear una columna a partir de la variable \"media\" + \"mediaAux\" obtenida aqui.\n",
        "\n",
        "indices = len(train.index)\n",
        "indicesOg = len(trainOg.index)\n",
        "destrezaDistanciaTest(indices, indicesOg)\n",
        "\n",
        "\n",
        "\n",
        "#Len Intervalos\n",
        "print(len(train[(train['Distancia'] < 1600).tolist()]))\n",
        "print(len(train[((train['Distancia'] >= 1600) & (train['Distancia'] <= 2400) ).tolist()]))\n",
        "print(len(train[(train['Distancia'] >= 3200).tolist()]))"
      ]
    },
    {
      "cell_type": "code",
      "execution_count": null,
      "metadata": {
        "id": "xSJojUpN4-4a"
      },
      "outputs": [],
      "source": [
        "pd.set_option('display.max_rows', None)\n",
        "train[['NombreCaballo','DestrezaDistancia']].head(64)"
      ]
    },
    {
      "cell_type": "markdown",
      "metadata": {
        "id": "MkBLWmf7eAs9"
      },
      "source": [
        "### Busqueda Meteorologia\n",
        "---"
      ]
    },
    {
      "cell_type": "code",
      "execution_count": null,
      "metadata": {
        "id": "iLWAEE4keAs-"
      },
      "outputs": [],
      "source": [
        "train['Meteorología'].value_counts()[:35].sort_values(ascending=False) #90 primeras apariencias >= 3"
      ]
    },
    {
      "cell_type": "code",
      "execution_count": null,
      "metadata": {
        "id": "aFIHqWZOeAs-"
      },
      "outputs": [],
      "source": [
        "def comprobacionTipoMeteorologia(indice, listaMeteo):\n",
        "  tipo = -1 # 0 -> Lluvia / 1 -> Nublado / 2 -> Soleado, Despejado  \n",
        "  val = train.at[indice, 'Meteorología']\n",
        "  for meteo in listaMeteo:\n",
        "   if(\"Lluvia\" in val or \"Llovizna\" in val or \"precipitaciones\" in val or \"lluvias\" in val):\n",
        "      tipo = 1\n",
        "   elif(\"Soleado\" in val or \"Despejado\" in val):\n",
        "      tipo = 2\n",
        "   else:\n",
        "     tipo = 0\n",
        "  return tipo;\n",
        "\n",
        "def comprobacionTipoMeteorologiaOg(indice, listaMeteo):\n",
        "  tipo = -1 # 0 -> Lluvia / 1 -> Nublado / 2 -> Soleado, Despejado  \n",
        "  val = trainOg.at[indice, 'Meteorología']\n",
        "  for meteo in listaMeteo:\n",
        "   if(\"Lluvia\" in val or \"Llovizna\" in val or \"precipitaciones\" in val or \"lluvias\" in val):\n",
        "      tipo = 1\n",
        "   elif(\"Soleado\" in val or \"Despejado\" in val):\n",
        "      tipo = 2\n",
        "   else:\n",
        "     tipo = 0\n",
        "  return tipo;\n",
        "\n",
        "def destrezaMeteorologia(indices, indicesOg, listaMeteo):                      \n",
        "  for i in range(indices):\n",
        "    print(i)\n",
        "    tipo = comprobacionTipoMeteorologia(i, listaMeteo)\n",
        "    nombre = train.at[i, 'NombreCaballo']\n",
        "    fecha = train.at[i, 'FechaAux']\n",
        "    media = 0 # Media carreras\n",
        "    sum = 0 # Numero Carreras\n",
        "    mediaAux = 0 \n",
        "    sumAux = 0\n",
        "    for j in range(indicesOg):\n",
        "      fechaAux = trainOg.at[j, 'FechaAux']\n",
        "      tipoAux = comprobacionTipoMeteorologiaOg(j, listaMeteo)\n",
        "      nombreAux= trainOg.at[j, 'NombreCaballo']\n",
        "      if(nombreAux == nombre):\n",
        "        if((fechaAux < fecha) & (tipoAux == tipo)):\n",
        "          media += (trainOg.at[j, 'Puesto'] )\n",
        "          sum += 1\n",
        "        elif((fechaAux < fecha) & (tipoAux != tipo)):\n",
        "          mediaAux += (trainOg.at[j, 'Puesto'] )\n",
        "          sumAux += 1\n",
        "    if(sum != 0):\n",
        "      media /= sum\n",
        "    if(sumAux != 0):\n",
        "      mediaAux /= sumAux\n",
        "    print(i, \"-->\", nombre, \" - Media->\", media, \"/MediaAux-->\", mediaAux, \"/Numero Destreza(\", sum, sumAux, \"):Numero Otros/\") # Si hay mas de 2 participaciones (en esas condiciones y resto ) y con una media al menos un 33% mas baja , es valido\n",
        "    if((sum >= 2) & (sumAux >= 2) & (((1.1* media) < mediaAux))): # Si hay mas de 2 participaciones (en esas condiciones y resto ) y con una media al menos un 33% mas baja , es valido\n",
        "      train.at[i, 'DestrezaMeteo'] = 1\n",
        "      print(\"XXXXXXXXXXXXXXXXXXXXXXXXXXXXXXXXXXXXXXXXX\")\n",
        "    else:\n",
        "      train.at[i, 'DestrezaMeteo'] = 0\n",
        "        \n",
        "indicesOg = len(trainOg.index)\n",
        "indices = len(train.index)\n",
        "listaMeteo = train['Meteorología'].unique().tolist()\n",
        "destrezaMeteorologia(indices, indicesOg,  listaMeteo)"
      ]
    },
    {
      "cell_type": "markdown",
      "metadata": {
        "id": "GrUkib_snMOG"
      },
      "source": [
        "### Busqueda Lluvia\n",
        "---"
      ]
    },
    {
      "cell_type": "code",
      "execution_count": null,
      "metadata": {
        "id": "qBTVBaC5nMOG"
      },
      "outputs": [],
      "source": [
        "train['LLuvia'].value_counts()[:35].sort_values(ascending=False) #90 primeras apariencias >= 3"
      ]
    },
    {
      "cell_type": "code",
      "execution_count": null,
      "metadata": {
        "id": "ctlrrD-dnMOG"
      },
      "outputs": [],
      "source": [
        "def comprobacionTipoLLuvia(indice, listaLLuvia):\n",
        "  tipo = -1 # 0 -> 0.0 / 1 -> > 0.0 / 2 -> > 1 \n",
        "  val = train.at[indice, 'LLuvia']\n",
        "  for meteo in listaMeteo:\n",
        "   if(val > 0):\n",
        "      tipo = 1\n",
        "   elif(val > 1):\n",
        "      tipo = 2\n",
        "   else:\n",
        "     tipo = 0\n",
        "  return tipo;\n",
        "\n",
        "\n",
        "def comprobacionTipoLLuviaOg(indice, listaLLuvia):\n",
        "  tipo = -1 # 0 -> 0.0 / 1 -> > 0.0 / 2 -> > 1 \n",
        "  val = trainOg.at[indice, 'LLuvia']\n",
        "  for meteo in listaMeteo:\n",
        "   if(val > 0):\n",
        "      tipo = 1\n",
        "   elif(val > 1):\n",
        "      tipo = 2\n",
        "   else:\n",
        "     tipo = 0\n",
        "  return tipo;\n",
        "\n",
        "def destrezaLLuvia(indices, indicesOg,  listaLLuvia):                      \n",
        "  for i in range(indices):\n",
        "    print(i)\n",
        "    tipo = comprobacionTipoLLuvia(i, listaLLuvia)\n",
        "    nombre = train.at[i, 'NombreCaballo']\n",
        "    fecha = train.at[i, 'FechaAux']\n",
        "    media = 0 # Media carreras\n",
        "    sum = 0 # Numero Carreras\n",
        "    mediaAux = 0 \n",
        "    sumAux = 0\n",
        "    for j in range(indicesOg):\n",
        "      fechaAux = trainOg.at[j, 'FechaAux']\n",
        "      tipoAux = comprobacionTipoLLuviaOg(j, listaLLuvia)\n",
        "      nombreAux= trainOg.at[j, 'NombreCaballo']\n",
        "      if(nombreAux == nombre):\n",
        "        if((fechaAux < fecha) & (tipoAux == tipo)):\n",
        "          media += (trainOg.at[j, 'Puesto'] )\n",
        "          sum += 1\n",
        "        elif((fechaAux < fecha) & (tipoAux != tipo)):\n",
        "          mediaAux += (trainOg.at[j, 'Puesto'] )\n",
        "          sumAux += 1\n",
        "    if(sum != 0):\n",
        "      media /= sum\n",
        "    if(sumAux != 0):\n",
        "      mediaAux /= sumAux\n",
        "    print(i, \"-->\", nombre, \" - Media->\", media, \"/MediaAux-->\", mediaAux, \"/Numero Destreza(\", sum, sumAux, \"):Numero Otros/\") \n",
        "    if((sum >= 2) & (sumAux >= 2) & (((1.1* media) < mediaAux))): # Si hay mas de 2 participaciones (en esas condiciones y resto ) y con una media al menos un 33% mas baja , es valido\n",
        "      train.at[i, 'DestrezaLLuvia'] = 1\n",
        "    else:\n",
        "      train.at[i, 'DestrezaLLuvia'] = 0\n",
        "        \n",
        "indicesOg= len(trainOg.index)\n",
        "indices = len(train.index)\n",
        "listaLLuvia = train['LLuvia'].unique().tolist()\n",
        "destrezaLLuvia(indices, indicesOg,  listaLLuvia)"
      ]
    },
    {
      "cell_type": "code",
      "execution_count": null,
      "metadata": {
        "id": "T_FU4Xy4nMOG"
      },
      "outputs": [],
      "source": [
        "train['DestrezaLLuvia'].value_counts()[:35].sort_values(ascending=False) #90 primeras apariencias >= 3"
      ]
    },
    {
      "cell_type": "markdown",
      "metadata": {
        "id": "I1SlT8bgp7Yi"
      },
      "source": [
        "### Busqueda Temperatura\n",
        "---"
      ]
    },
    {
      "cell_type": "code",
      "execution_count": null,
      "metadata": {
        "id": "_SG-vHa5p7Yi"
      },
      "outputs": [],
      "source": [
        "train['Temperatura'].value_counts().sort_values(ascending=False) #90 primeras apariencias >= 3"
      ]
    },
    {
      "cell_type": "code",
      "execution_count": null,
      "metadata": {
        "id": "fTIW_VqMp7Yj"
      },
      "outputs": [],
      "source": [
        "def comprobacionTipoTemperatura(indice, listaTemperatura):\n",
        "  tipo = -1 # 0 -> < 20 / 1 -> > 30 > x < 20 / 2 -> > > 30\n",
        "  val = train.at[indice, 'Temperatura']\n",
        "  for meteo in listaMeteo:\n",
        "   if(val > 30):\n",
        "      tipo = 2\n",
        "   elif(val < 20):\n",
        "      tipo = 0\n",
        "   else:\n",
        "     tipo = 0\n",
        "  return tipo;\n",
        "\n",
        "def comprobacionTipoTemperaturaOg(indice, listaTemperatura):\n",
        "  tipo = -1 # 0 -> < 20 / 1 -> > 30 > x < 20 / 2 -> > > 30\n",
        "  val = trainOg.at[indice, 'Temperatura']\n",
        "  for meteo in listaMeteo:\n",
        "   if(val > 30):\n",
        "      tipo = 2\n",
        "   elif(val < 20):\n",
        "      tipo = 0\n",
        "   else:\n",
        "     tipo = 0\n",
        "  return tipo;\n",
        "\n",
        "def destrezaTemperatura(indices, indicesOg, listaTemperatura, ):                      \n",
        "  for i in range(indices):\n",
        "    print(i)\n",
        "    tipo = comprobacionTipoTemperatura(i, listaTemperatura)\n",
        "    nombre = train.at[i, 'NombreCaballo']\n",
        "    fecha = train.at[i, 'FechaAux']\n",
        "    media = 0 # Media carreras\n",
        "    sum = 0 # Numero Carreras\n",
        "    mediaAux = 0 \n",
        "    sumAux = 0\n",
        "    for j in range(indicesOg):\n",
        "      fechaAux = trainOg.at[j, 'FechaAux']\n",
        "      tipoAux = comprobacionTipoTemperaturaOg(j, listaTemperatura)\n",
        "      nombreAux= trainOg.at[j, 'NombreCaballo']\n",
        "      if(nombreAux == nombre):\n",
        "        if((fechaAux < fecha) & (tipoAux == tipo)):\n",
        "          media += (trainOg.at[j, 'Puesto'] )\n",
        "          sum += 1\n",
        "        elif((fechaAux < fecha) & (tipoAux != tipo)):\n",
        "          mediaAux += (trainOg.at[j, 'Puesto'] )\n",
        "          sumAux += 1\n",
        "    if(sum != 0):\n",
        "      media /= sum\n",
        "    if(sumAux != 0):\n",
        "      mediaAux /= sumAux\n",
        "    print(i, \"-->\", nombre, \" - Media->\", media, \"/MediaAux-->\", mediaAux, \"/Numero Destreza(\", sum, sumAux, \"):Numero Otros/\") \n",
        "    if((sum >= 2) & (sumAux >= 2) & (((1.1* media) < mediaAux))): # Si hay mas de 2 participaciones (en esas condiciones y resto ) y con una media al menos un 33% mas baja , es valido\n",
        "      train.at[i, 'DestrezaTemperatura'] = 1\n",
        "    else:\n",
        "      train.at[i, 'DestrezaTemperatura'] = 0\n",
        "        \n",
        "indicesOg = len(trainOg.index)\n",
        "indices = len(train.index)\n",
        "listaTemperatura = train['Temperatura'].unique().tolist()\n",
        "destrezaTemperatura(indices, indicesOg,  listaTemperatura)"
      ]
    },
    {
      "cell_type": "code",
      "execution_count": null,
      "metadata": {
        "id": "6H_klrDYp7Yj"
      },
      "outputs": [],
      "source": [
        "train['DestrezaTemperatura'].value_counts().sort_values(ascending=False) #90 primeras apariencias >= 3"
      ]
    },
    {
      "cell_type": "markdown",
      "metadata": {
        "id": "nIhIX5h0wews"
      },
      "source": [
        "### Busqueda Viento\n",
        "---"
      ]
    },
    {
      "cell_type": "code",
      "execution_count": null,
      "metadata": {
        "id": "ggAcKaSiwews"
      },
      "outputs": [],
      "source": [
        "train['Viento'].value_counts().sort_values(ascending=False) #90 primeras apariencias >= 3"
      ]
    },
    {
      "cell_type": "code",
      "execution_count": null,
      "metadata": {
        "id": "i-b7fTJKwews"
      },
      "outputs": [],
      "source": [
        "def comprobacionTipoViento(indice, listaViento):\n",
        "  tipo = -1 # 0 -> < 5 / 1 -> > 30 > x > 5 / 2 -> > > 30\n",
        "  val = train.at[indice, 'Viento']\n",
        "  for meteo in listaMeteo:\n",
        "   if(val > 30):\n",
        "      tipo = 2\n",
        "   elif(val < 5):\n",
        "      tipo = 0\n",
        "   else:\n",
        "     tipo = 0\n",
        "  return tipo;\n",
        "\n",
        "\n",
        "def comprobacionTipoVientoOg(indice, listaViento):\n",
        "  tipo = -1 # 0 -> < 5 / 1 -> > 30 > x > 5 / 2 -> > > 30\n",
        "  val = trainOg.at[indice, 'Viento']\n",
        "  for meteo in listaMeteo:\n",
        "   if(val > 30):\n",
        "      tipo = 2\n",
        "   elif(val < 5):\n",
        "      tipo = 0\n",
        "   else:\n",
        "     tipo = 0\n",
        "  return tipo;\n",
        "\n",
        "def destrezaViento(indices, indicesOg, listaViento):                      \n",
        "  for i in range(indices):\n",
        "    print(i)\n",
        "    tipo = comprobacionTipoViento(i, listaViento)\n",
        "    nombre = train.at[i, 'NombreCaballo']\n",
        "    fecha = train.at[i, 'FechaAux']\n",
        "    media = 0 # Media carreras\n",
        "    sum = 0 # Numero Carreras\n",
        "    mediaAux = 0 \n",
        "    sumAux = 0\n",
        "    for j in range(indicesOg):\n",
        "      fechaAux = trainOg.at[j, 'FechaAux']\n",
        "      tipoAux = comprobacionTipoVientoOg(j, listaViento)\n",
        "      nombreAux= trainOg.at[j, 'NombreCaballo']\n",
        "      if(nombreAux == nombre):\n",
        "        if((fechaAux < fecha) & (tipoAux == tipo)):\n",
        "          media += (trainOg.at[j, 'Puesto'] )\n",
        "          sum += 1\n",
        "        elif((fechaAux < fecha) & (tipoAux != tipo)):\n",
        "          mediaAux += (trainOg.at[j, 'Puesto'] )\n",
        "          sumAux += 1\n",
        "    if(sum != 0):\n",
        "      media /= sum\n",
        "    if(sumAux != 0):\n",
        "      mediaAux /= sumAux\n",
        "    print(i, \"-->\", nombre, \" - Media->\", media, \"/MediaAux-->\", mediaAux, \"/Numero Destreza(\", sum, sumAux, \"):Numero Otros/\") \n",
        "    if((sum >= 2) & (sumAux >= 2) & (((1.1* media) < mediaAux))): # Si hay mas de 2 participaciones (en esas condiciones y resto ) y con una media al menos un 33% mas baja , es valido\n",
        "      train.at[i, 'DestrezaViento'] = 1\n",
        "    else:\n",
        "      train.at[i, 'DestrezaViento'] = 0\n",
        "        \n",
        "indicesOg =  len(trainOg.index)\n",
        "indices = len(train.index)\n",
        "listaViento = train['Viento'].unique().tolist()\n",
        "destrezaViento(indices,indicesOg, listaViento)"
      ]
    },
    {
      "cell_type": "code",
      "execution_count": null,
      "metadata": {
        "id": "3PZEH-suwewt"
      },
      "outputs": [],
      "source": [
        "train['DestrezaViento'].value_counts().sort_values(ascending=False) #90 primeras apariencias >= 3"
      ]
    },
    {
      "cell_type": "markdown",
      "metadata": {
        "id": "coH3wMKOycVk"
      },
      "source": [
        "### Busqueda Terreno\n",
        "---"
      ]
    },
    {
      "cell_type": "code",
      "execution_count": null,
      "metadata": {
        "id": "h7eoAOQjycVk"
      },
      "outputs": [],
      "source": [
        "train['Terreno'].value_counts().sort_values(ascending=False) #90 primeras apariencias >= 3"
      ]
    },
    {
      "cell_type": "code",
      "execution_count": null,
      "metadata": {
        "id": "e_D_4IQ3ycVk"
      },
      "outputs": [],
      "source": [
        "def comprobacionTipoTerreno(indice, listaTerreno):\n",
        "  tipo = -1 # 0 -> Arena / 1 -> H - Blando / 2 -> H - Bueno\n",
        "  val = train.at[indice, 'Terreno']\n",
        "  if(val == \"H-Bueno\"):\n",
        "    element = element.replace('H-Bueno', 'H - Bueno')\n",
        "    train.at[indice, 'Terreno'] = val\n",
        "  for meteo in listaMeteo:\n",
        "   if(val == 'H - Bueno'):\n",
        "      tipo = 2\n",
        "   elif(val == 'H - Blando'):\n",
        "      tipo = 1\n",
        "   elif(val == 'H - Blando'):\n",
        "      tipo = 0\n",
        "   else:\n",
        "      tipo = 4\n",
        "  return tipo;\n",
        "\n",
        "def comprobacionTipoTerrenoOg(indice, listaTerreno):\n",
        "  tipo = -1 # 0 -> Arena / 1 -> H - Blando / 2 -> H - Bueno\n",
        "  val = trainOg.at[indice, 'Terreno']\n",
        "  if(val == \"H-Bueno\"):\n",
        "    element = element.replace('H-Bueno', 'H - Bueno')\n",
        "    trainOg.at[indice, 'Terreno'] = val\n",
        "  for meteo in listaMeteo:\n",
        "   if(val == 'H - Bueno'):\n",
        "      tipo = 2\n",
        "   elif(val == 'H - Blando'):\n",
        "      tipo = 1\n",
        "   elif(val == 'H - Blando'):\n",
        "      tipo = 0\n",
        "   else:\n",
        "      tipo = 4\n",
        "  return tipo;\n",
        "\n",
        "def destrezaTerreno(indices,indicesOg, listaTerreno):                      \n",
        "  for i in range(indices):\n",
        "    print(i)\n",
        "    tipo = comprobacionTipoTerreno(i, listaTerreno)\n",
        "    nombre = train.at[i, 'NombreCaballo']\n",
        "    fecha = train.at[i, 'FechaAux']\n",
        "    media = 0 # Media carreras\n",
        "    sum = 0 # Numero Carreras\n",
        "    mediaAux = 0 \n",
        "    sumAux = 0\n",
        "    for j in range(indicesOg):\n",
        "      fechaAux = trainOg.at[j, 'FechaAux']\n",
        "      tipoAux = comprobacionTipoTerrenoOg(j, listaTerreno)\n",
        "      nombreAux= trainOg.at[j, 'NombreCaballo']\n",
        "      if(nombreAux == nombre):\n",
        "        if((fechaAux < fecha) & (tipoAux == tipo)):\n",
        "          media += (trainOg.at[j, 'Puesto'] )\n",
        "          sum += 1\n",
        "        elif((fechaAux < fecha) & (tipoAux != tipo)):\n",
        "          mediaAux += (trainOg.at[j, 'Puesto'] )\n",
        "          sumAux += 1\n",
        "    if(sum != 0):\n",
        "      media /= sum\n",
        "    if(sumAux != 0):\n",
        "      mediaAux /= sumAux\n",
        "    print(i, \"-->\", nombre, \" - Media->\", media, \"/MediaAux-->\", mediaAux, \"/Numero Destreza(\", sum, sumAux, \"):Numero Otros/\") \n",
        "    if((sum >= 2) & (sumAux >= 2) & (((1.1* media) < mediaAux))): # Si hay mas de 2 participaciones (en esas condiciones y resto ) y con una media al menos un 33% mas baja , es valido\n",
        "      train.at[i, 'DestrezaTerreno'] = 1\n",
        "    else:\n",
        "      train.at[i, 'DestrezaTerreno'] = 0\n",
        "        \n",
        "\n",
        "indices = len(train.index)\n",
        "indicesOg = len(trainOg.index)\n",
        "listaTerreno = train['Terreno'].unique().tolist()\n",
        "destrezaTerreno(indices,indicesOg,  listaTerreno)"
      ]
    },
    {
      "cell_type": "code",
      "execution_count": null,
      "metadata": {
        "id": "s-tfyXrGycVl"
      },
      "outputs": [],
      "source": [
        "train['DestrezaTerreno'].value_counts().sort_values(ascending=False) #90 primeras apariencias >= 3"
      ]
    },
    {
      "cell_type": "markdown",
      "metadata": {
        "id": "-W5Gh3_ueiKu"
      },
      "source": [
        "### **Tratamiento (CaballoDistintos)**"
      ]
    },
    {
      "cell_type": "code",
      "execution_count": null,
      "metadata": {
        "id": "jwitMfNzep20"
      },
      "outputs": [],
      "source": [
        "train.loc[~train[\"NombreCaballo\"].isin(listAparicionesHorse), \"NombreCaballo\"] = \"OtherHorse\" # Lo posponemos a este momento(por ahora)"
      ]
    },
    {
      "cell_type": "markdown",
      "metadata": {
        "id": "TNcJzf5clRwn"
      },
      "source": [
        "## **Tratamiento (Edad)**"
      ]
    },
    {
      "cell_type": "code",
      "execution_count": null,
      "metadata": {
        "id": "7drI0KXqlRwn"
      },
      "outputs": [],
      "source": [
        "train['Edad'].value_counts()[:35].sort_values(ascending=False) #90 primeras apariencias >= 3"
      ]
    },
    {
      "cell_type": "markdown",
      "metadata": {
        "id": "Cgzb2rAalRwn"
      },
      "source": [
        "## **Tratamiento (Mantilla)**"
      ]
    },
    {
      "cell_type": "code",
      "execution_count": null,
      "metadata": {
        "id": "FK4j7b2LlRwo"
      },
      "outputs": [],
      "source": [
        "train['Mantilla'].value_counts()[:35].sort_values(ascending=False) #90 primeras apariencias >= 3"
      ]
    },
    {
      "cell_type": "markdown",
      "metadata": {
        "id": "OLeBdZtqlRwp"
      },
      "source": [
        "## **Tratamiento (Problemas)**\n"
      ]
    },
    {
      "cell_type": "code",
      "execution_count": null,
      "metadata": {
        "id": "MHy4cLmZlRwp"
      },
      "outputs": [],
      "source": [
        "train['Problemas'].value_counts()[:35].sort_values(ascending=False) #90 primeras apariencias >= 3"
      ]
    },
    {
      "cell_type": "code",
      "execution_count": null,
      "metadata": {
        "id": "RjpTdMkrlRwq"
      },
      "outputs": [],
      "source": [
        "train['Problemas'] = train['Problemas'].fillna('0')\n",
        "train['Problema_Nulo'] = np.where(train['Problemas'].str.contains('0'),1,0)\n",
        "train['Problema_1'] = np.where(train['Problemas'].str.contains('1'),1,0)\n",
        "train['Problema_2'] = np.where(train['Problemas'].str.contains('2'),1,0)\n",
        "train['Problema_3'] = np.where(train['Problemas'].str.contains('3'),1,0)\n",
        "train['Problema_4'] = np.where(train['Problemas'].str.contains('4'),1,0)\n",
        "train['Problema_5'] = np.where(train['Problemas'].str.contains('5'),1,0)\n",
        "train['Problema_6'] = np.where(train['Problemas'].str.contains('6'),1,0)\n",
        "train['Problema_7'] = np.where(train['Problemas'].str.contains('7'),1,0)\n",
        "train['Problema_8'] = np.where(train['Problemas'].str.contains('8'),1,0)\n",
        "train.head()\n",
        "\n"
      ]
    },
    {
      "cell_type": "markdown",
      "metadata": {
        "id": "Y0hIuNADlRwq"
      },
      "source": [
        "## **Tratamiento (UltimasActuaciones)**\n"
      ]
    },
    {
      "cell_type": "code",
      "execution_count": null,
      "metadata": {
        "id": "brpsU6QnlRwq"
      },
      "outputs": [],
      "source": [
        "# def count_lastRaces(arrayLast):\n",
        "#   index = 0\n",
        "#   for element in arrayLast:\n",
        "#     element = element.replace(',', '')\n",
        "#     element = element.replace('[', '')\n",
        "#     element = element[:len(element)-1]\n",
        "#     sum = 0\n",
        "#     if 'Debutante' in element:\n",
        "#       sum = 10\n",
        "#       element = []\n",
        "#     else:\n",
        "#       element = element.replace('NP', '08')\n",
        "#       element = element.replace('Desc', '08')\n",
        "#       element = element.replace(' ', '')\n",
        "#       i = len(element)\n",
        "#       j = len(element)\n",
        "#       iter = (len(element)) / 2\n",
        "#       count = 0\n",
        "#       while(iter > 0):\n",
        "#         if(count == 0):\n",
        "#           i = i-2\n",
        "#           sum += int(element[i:j])**1.3\n",
        "#           j = j-2\n",
        "#         elif(count == 1):\n",
        "#           i = i-2\n",
        "#           sum += int(element[i:j])**1.2\n",
        "#           j = j-2\n",
        "#         else:\n",
        "#           print(iter)\n",
        "#           i = i-2\n",
        "#           sum += int(element[i:j])\n",
        "#           j = j-2\n",
        "#         count += 1\n",
        "#         iter -= 1\n",
        "#       sum = sum / len(element)\n",
        "#       if(index < 30):\n",
        "#         print('******INDEX ', index+2, '*****')\n",
        "#         print('Sum -->', sum, '/Len -->', len(element))\n",
        "#         print('Result -->', sum, '/Element -->' ,element)\n",
        "#     train.at[index, 'MediaUltimasActuaciones'] = sum\n",
        "#     train.at[index, 'CantidadActuaciones'] = len(element)\n",
        "#     index += 1\n",
        "\n",
        "      \n",
        "\n",
        "\n",
        "\n",
        "# t_array = train[\"UltimasActuaciones\"]\n",
        "# count_lastRaces(t_array)"
      ]
    },
    {
      "cell_type": "code",
      "execution_count": null,
      "metadata": {
        "id": "YZ7UPavTlRwr"
      },
      "outputs": [],
      "source": [
        "#  train['MediaUltimasActuaciones'].head(25)"
      ]
    },
    {
      "cell_type": "markdown",
      "metadata": {
        "id": "4dZmuPgIlRws"
      },
      "source": [
        "## **Tratamiento (Hora)**\n"
      ]
    },
    {
      "cell_type": "code",
      "execution_count": null,
      "metadata": {
        "id": "BD5YDOnylRws"
      },
      "outputs": [],
      "source": [
        "train['Hora'] = train['Hora'].str.replace(':', '') "
      ]
    },
    {
      "cell_type": "markdown",
      "metadata": {
        "id": "_92pJYndlRwt"
      },
      "source": [
        "## **Tratamiento (Terreno)**\n"
      ]
    },
    {
      "cell_type": "markdown",
      "metadata": {
        "id": "GxCqIWailRwt"
      },
      "source": [
        "## **Tratamiento (Distancia)**\n"
      ]
    },
    {
      "cell_type": "markdown",
      "metadata": {
        "id": "M6UpYVOVlRwt"
      },
      "source": [
        "## **Tratamiento (Tipo)**\n"
      ]
    },
    {
      "cell_type": "markdown",
      "metadata": {
        "id": "YNYSed3olRwt"
      },
      "source": [
        "## **Tratamiento (SentidoHipodromo)**\n"
      ]
    },
    {
      "cell_type": "markdown",
      "metadata": {
        "id": "4D0eOBFflRwt"
      },
      "source": [
        "## **Tratamiento (Meteorologia)**\n"
      ]
    },
    {
      "cell_type": "markdown",
      "metadata": {
        "id": "gD5cZkFclRwu"
      },
      "source": [
        "## **Tratamiento (Lluvia)**\n"
      ]
    },
    {
      "cell_type": "markdown",
      "metadata": {
        "id": "HouSXFB_lRwu"
      },
      "source": [
        "## **Tratamiento (Viento)**\n"
      ]
    },
    {
      "cell_type": "markdown",
      "metadata": {
        "id": "XL0mqMmxlRwu"
      },
      "source": [
        "## **Tratamiento (TemperaturaMax)**\n"
      ]
    },
    {
      "cell_type": "markdown",
      "metadata": {
        "id": "AA170c9RlRwu"
      },
      "source": [
        "## **Tratamiento (TemperaturaMin)**\n"
      ]
    },
    {
      "cell_type": "markdown",
      "metadata": {
        "id": "oQ-ZsvXDlRwx"
      },
      "source": [
        "## **Tratamiento (Hipodromo)**\n"
      ]
    },
    {
      "cell_type": "markdown",
      "metadata": {
        "id": "DDyOyCLzG4a-"
      },
      "source": [
        "#Continuacion"
      ]
    },
    {
      "cell_type": "code",
      "execution_count": null,
      "metadata": {
        "id": "qr4DCNzkHSC5"
      },
      "outputs": [],
      "source": [
        "X_val = train\n",
        "ids = train\n",
        "X_val = X_val.reset_index()\n",
        "X_val.info()\n",
        "X_valTF = X_val #TensorFlow"
      ]
    },
    {
      "cell_type": "code",
      "execution_count": null,
      "metadata": {
        "id": "fnvAxxhxTGJh"
      },
      "outputs": [],
      "source": [
        "column_transformer_test = sklearn.compose.ColumnTransformer(transformers=[\n",
        "    (\"drop\", \"drop\", ['Fecha','year','day', 'Problemas','Hora', 'FechaAux', 'Mantilla', 'Terreno', 'Tipo', 'Meteorología', 'LLuvia', 'Viento', 'Temperatura', 'Hipodromo', 'Contrincantes']),\n",
        "    (\"scale\", sklearn.preprocessing.StandardScaler(), []),\n",
        "    # (\"num\", sklearn.preprocessing.MinMaxScaler(), ['Distancia', 'Edad', 'Peso']),\n",
        "    (\"one-hot\", sklearn.preprocessing.OneHotEncoder(handle_unknown=\"ignore\"), ['NombreCaballo','Propietario', 'Preparador', 'Jinete']),\n",
        "], remainder='passthrough');\n",
        "\n",
        "# column_transformer = sklearn.compose.ColumnTransformer(transformers=[\n",
        "#     (\"drop\", \"drop\", ['UltimasActuaciones','Fecha','year','day', 'Problemas']),\n",
        "#     (\"scale\", sklearn.preprocessing.StandardScaler(), []),\n",
        "#     (\"one-hot\", sklearn.preprocessing.OneHotEncoder(handle_unknown=\"ignore\"), ['NombreCaballo','Peso','Edad', 'Mantilla','Propietario', 'Preparador', 'Jinete', 'estacion', 'FechaAux', 'Terreno','Distancia', 'Tipo', 'Meteorología', 'LLuvia', 'Viento', 'TemperaturaMax', 'TemperaturaMin', 'Hipodromo']),\n",
        "# ], remainder='passthrough');"
      ]
    },
    {
      "cell_type": "code",
      "execution_count": null,
      "metadata": {
        "id": "WZY_P1RQR1u4"
      },
      "outputs": [],
      "source": [
        "train = train.reset_index()\n",
        "\n",
        "X_val = column_transformer_test.fit_transform(X_val)"
      ]
    },
    {
      "cell_type": "code",
      "source": [
        "X_val"
      ],
      "metadata": {
        "id": "y-LjZq30vRlw"
      },
      "execution_count": null,
      "outputs": []
    },
    {
      "cell_type": "code",
      "execution_count": null,
      "metadata": {
        "id": "KeotIhAwzGNY"
      },
      "outputs": [],
      "source": [
        "column_transformer_train.get_feature_names()"
      ]
    },
    {
      "cell_type": "code",
      "execution_count": null,
      "metadata": {
        "id": "b2wOYxlvX5Qn"
      },
      "outputs": [],
      "source": [
        "column_transformer_test.get_feature_names()"
      ]
    },
    {
      "cell_type": "markdown",
      "metadata": {
        "id": "s9BK-WgyQn9l"
      },
      "source": [
        "# Algoritmos\n",
        "---"
      ]
    },
    {
      "cell_type": "code",
      "execution_count": null,
      "metadata": {
        "id": "m2gBRtgJQMQR"
      },
      "outputs": [],
      "source": [
        "from sklearn.metrics import mean_absolute_error\n",
        "tree.fit(X, y);\n",
        "\n",
        "print('---')\n",
        "\n",
        "print('Tree (train): ' + str(mean_absolute_error(y_train, tree.predict(X_train))))\n",
        "predicted_yTree = tree.predict(X_val)\n",
        "print('Tree (test): ' + str(mean_absolute_error(test_labels, tree.predict(X_val))))\n",
        "\n",
        "print('---')\n",
        "\n",
        "print('RF (train): ' + str(mean_absolute_error(y_train, rf.predict(X_train))))\n",
        "predicted_yRF = rf.predict(X_val)\n",
        "print('RF (test): ' + str(mean_absolute_error(test_labels, rf.predict(X_val))))\n",
        "\n",
        "print('---')\n",
        "\n",
        "print('XGB (train): ' + str(mean_absolute_error(y_train, xgb_model.predict(X_train))))\n",
        "predicted_yXGB = xgb_model.predict(X_val)\n",
        "print('XGB (test): ' + str(mean_absolute_error(test_labels, xgb_model.predict(X_val))))\n",
        "\n",
        "\n",
        "print('---')\n",
        "\n",
        "print('Cat (train): ' + str(mean_absolute_error(y_train, model_cat_tun.predict(X_train))))\n",
        "predicted_yCat = model_cat_tun.predict(X_val)\n",
        "print('Cat (test): ' + str(mean_absolute_error(test_labels, model_cat_tun.predict(X_val))))\n",
        "\n",
        "print('---')\n",
        "\n",
        "print('Lineal (train): ' + str(mean_absolute_error(y_train, linear.predict(X_train))))\n",
        "predicted_yLineal = linear.predict(X_val)\n",
        "print('Lineal (test): ' + str(mean_absolute_error(test_labels, linear.predict(X_val))))\n",
        "\n",
        "\n",
        "\n",
        "print('---')\n",
        "\n",
        "print('Ridge (train): ' + str(mean_absolute_error(y_train, ridge.predict(X_train))))\n",
        "predicted_yRidge = ridge.predict(X_val)\n",
        "print('Ridge (test): ' + str(mean_absolute_error(test_labels, ridge.predict(X_val))))\n",
        "\n",
        "\n",
        "print('---')\n",
        "\n",
        "print('LASSO (train): ' + str(mean_absolute_error(y_train, lasso.predict(X_train))))\n",
        "predicted_yLASSO = lasso.predict(X_val)\n",
        "print('LASSO (test): ' + str(mean_absolute_error(test_labels, lasso.predict(X_val))))\n",
        "\n",
        "\n",
        "print('---')\n",
        "\n",
        "print('ElasticNet (train): ' + str(mean_absolute_error(y_train, elasticnet.predict(X_train))))\n",
        "predicted_yElastic = elasticnet.predict(X_val)\n",
        "print('ElasticNet (test): ' + str(mean_absolute_error(test_labels, elasticnet.predict(X_val))))"
      ]
    },
    {
      "cell_type": "code",
      "source": [
        "import graphviz \n",
        "from sklearn.tree import export_graphviz\n",
        "\n",
        "dot_data = export_graphviz(tree, out_file=None) \n",
        "graph = graphviz.Source(dot_data)"
      ],
      "metadata": {
        "id": "SJcEpxQry2WF"
      },
      "execution_count": null,
      "outputs": []
    },
    {
      "cell_type": "code",
      "execution_count": null,
      "metadata": {
        "id": "DJ7TQU6sGHXx"
      },
      "outputs": [],
      "source": [
        "trainOg = train\n",
        "train['Prediccion'] = 0\n",
        "train['Puesto'] = 0\n",
        "train['Carrera'] = 0\n",
        "y_val = pd.concat([train['Carrera'], train['Puesto'],train['NombreCaballo'], train['Prediccion'], train['UltimasActuacionesAlter'],train['DestrezaDistancia'], train['FechaAux'], train['Hora']],axis=1)"
      ]
    },
    {
      "cell_type": "code",
      "execution_count": null,
      "metadata": {
        "id": "WYHiHuePkTqA"
      },
      "outputs": [],
      "source": [
        "def ordenarTest(horarios, index, x):\n",
        "  carrera = 0\n",
        "  aux = -1\n",
        "  for horario in horarios:\n",
        "    if(aux != horario):\n",
        "      carrera += 1\n",
        "      aux = horario\n",
        "    dict = {}\n",
        "    conta = 0\n",
        "    for i in index:\n",
        "      horarioActual = x.at[i, 'Hora']\n",
        "      if(horario == horarioActual ):\n",
        "          x.at[i, 'Carrera'] = carrera\n",
        "          prediccion = x.at[i, 'Prediccion']\n",
        "          dict[i] = prediccion\n",
        "          conta += 1\n",
        "    puesto = 1\n",
        "    for w in sorted(dict, key=dict.get):\n",
        "      x.at[w, ['Puesto']] = puesto\n",
        "      puesto += 1\n",
        "\n",
        "def ordenarTestReverse(horarios, index, x):\n",
        "  carrera = 0\n",
        "  aux = -1\n",
        "  for horario in horarios:\n",
        "    if(aux != horario):\n",
        "      carrera += 1\n",
        "      aux = horario\n",
        "    dict = {}\n",
        "    conta = 0\n",
        "    for i in index:\n",
        "      horarioActual = x.at[i, 'Hora']\n",
        "      if(horario == horarioActual ):\n",
        "          x.at[i, 'Carrera'] = carrera\n",
        "          prediccion = x.at[i, 'Prediccion']\n",
        "          dict[i] = prediccion\n",
        "          conta += 1\n",
        "    puesto = 1\n",
        "    for w in sorted(dict, key=dict.get, reverse=True):\n",
        "      x.at[w, ['Puesto']] = puesto\n",
        "      puesto += 1    \n",
        "    \n",
        "\n",
        "\n",
        "horarios = train['Hora'].tolist()\n",
        "index = train['index'].tolist()"
      ]
    },
    {
      "cell_type": "code",
      "source": [
        "y_valRF = y_val\n",
        "y_valXgb = y_val\n",
        "y_valCat = y_val\n",
        "y_val1 = y_val\n",
        "y_val2= y_val\n",
        "y_val3 = y_val\n",
        "y_val4= y_val"
      ],
      "metadata": {
        "id": "kV2jm8yXJYmh"
      },
      "execution_count": null,
      "outputs": []
    },
    {
      "cell_type": "code",
      "source": [
        "y_valRF['Prediccion'] = predicted_yRF\n",
        "xRF = y_valRF\n",
        "ordenarTest(horarios, index, xRF)\n",
        "xRF.to_csv('outputRF.csv' , index=False)"
      ],
      "metadata": {
        "id": "FSxPmMQczM_W"
      },
      "execution_count": null,
      "outputs": []
    },
    {
      "cell_type": "code",
      "execution_count": null,
      "metadata": {
        "id": "XfEgk3lrfyo3"
      },
      "outputs": [],
      "source": [
        "y_valXgb['Prediccion'] = predicted_yXGB\n",
        "xXGB = y_valXgb\n",
        "ordenarTest(horarios, index, xXGB)\n",
        "xXGB.to_csv('outputXgb.csv' , index=False)\n"
      ]
    },
    {
      "cell_type": "code",
      "execution_count": null,
      "metadata": {
        "id": "veJOEkFYnJP0"
      },
      "outputs": [],
      "source": [
        "y_valCat['Prediccion'] = predicted_yCat\n",
        "xCat = y_valCat\n",
        "ordenarTest(horarios, index, xCat)\n",
        "xCat.to_csv('outputCat.csv' , index=False)"
      ]
    },
    {
      "cell_type": "code",
      "execution_count": null,
      "metadata": {
        "id": "KJsp0jrkX1RG"
      },
      "outputs": [],
      "source": [
        "\n",
        "y_val1['Prediccion'] = predicted_yLineal\n",
        "x1 = y_val1\n",
        "ordenarTest(horarios, index, x1)\n",
        "x1.to_csv('outputLineal.csv' , index=False)\n",
        "y_val2['Prediccion'] = predicted_yRidge\n",
        "x2 = y_val2\n",
        "ordenarTestReverse(horarios, index, x2)\n",
        "x2.to_csv('outputRidge.csv', index=False)\n",
        "y_val3['Prediccion'] = predicted_yLASSO\n",
        "x3 = y_val3\n",
        "ordenarTest(horarios, index, x3)\n",
        "x3.to_csv('outputLASSO.csv', index=False)\n",
        "y_val4['Prediccion'] = predicted_yElastic\n",
        "x4 = y_val4\n",
        "ordenarTest(horarios, index, x4)\n",
        "x4.to_csv('outputElastic.csv' , index=False)"
      ]
    },
    {
      "cell_type": "code",
      "execution_count": null,
      "metadata": {
        "id": "3xS2OJ8xMUvk"
      },
      "outputs": [],
      "source": [
        "pd.set_option('display.max_columns', None)\n",
        "x4.head(70)"
      ]
    },
    {
      "cell_type": "markdown",
      "metadata": {
        "id": "YmInW-4vZsjC"
      },
      "source": [
        "- **Considero importante realizar una explicacion en cada subida de .csv sobre en que se diferencia respecto al anterior**"
      ]
    }
  ],
  "metadata": {
    "colab": {
      "collapsed_sections": [
        "p2qbeMFefL4Z",
        "zBkuLFwodhPi",
        "kQUBnHP2c_B_",
        "pRrKU5JlLmug",
        "FNHPqSxQ1-Gs",
        "3tLWw1W6pSYA",
        "991FqEu_AbCh",
        "QjeeiBjzpr_k",
        "HQVT4l8wPiMf",
        "lMoHtG0plzfp",
        "qpZrbmDunXnE",
        "Rl8x6qOLvur-",
        "pTP8tb-Awmac",
        "cszh0PPWqego",
        "YtUAW4RbsgBI",
        "7cG1h6OssuhQ",
        "8h8B8ApIs-bo",
        "VBp5FYGQte6u",
        "IZ-owC1wtr2D",
        "-o4Y1o8zpBkw",
        "Vm1c9qJnu4-u",
        "FaTopoV10syt",
        "pO3y7XmtVGKF",
        "mSBaoWTwVMGs",
        "AT3WFAY1VV6m",
        "wSIoYoCBVZvz",
        "lmxe8YbuVe9c",
        "IXmLbU8sViiz",
        "P0nFs5yJVk-E",
        "K2C6KoQNVnSN",
        "cUiYNaafVuSf",
        "JCyC0Ia-eqj7",
        "0ljpc_EKv3zR",
        "E1VOY56rAXmq",
        "NqJKZLOSDsyB",
        "zoNlsctKMr42",
        "ZtAIFzIZOx93",
        "e3RikP5HVUSW",
        "KJkv475twgAc",
        "aX7A5lFxKi1Z",
        "3hIBAw3uKm1f",
        "OWEb9BGDKp53",
        "W9hxJma87Flr",
        "VFPEBuWcJ5pj",
        "pb5yf_8zjZ5Z",
        "Jh3WSnxElRwm",
        "62zkqi9-lRwr",
        "xVd7IHIr49HF",
        "dtcWgeS94-4a",
        "MkBLWmf7eAs9",
        "GrUkib_snMOG",
        "I1SlT8bgp7Yi",
        "nIhIX5h0wews",
        "coH3wMKOycVk",
        "-W5Gh3_ueiKu",
        "TNcJzf5clRwn",
        "Cgzb2rAalRwn",
        "OLeBdZtqlRwp",
        "Y0hIuNADlRwq",
        "4dZmuPgIlRws",
        "_92pJYndlRwt",
        "GxCqIWailRwt",
        "M6UpYVOVlRwt",
        "YNYSed3olRwt",
        "4D0eOBFflRwt",
        "gD5cZkFclRwu",
        "HouSXFB_lRwu",
        "XL0mqMmxlRwu",
        "AA170c9RlRwu",
        "oQ-ZsvXDlRwx",
        "DDyOyCLzG4a-"
      ],
      "provenance": [],
      "authorship_tag": "ABX9TyMeKaEpMhrfENL8KaSquF0y"
    },
    "kernelspec": {
      "display_name": "Python 3",
      "name": "python3"
    },
    "language_info": {
      "name": "python"
    }
  },
  "nbformat": 4,
  "nbformat_minor": 0
}